{
 "cells": [
  {
   "cell_type": "code",
   "execution_count": 3,
   "metadata": {},
   "outputs": [
    {
     "name": "stderr",
     "output_type": "stream",
     "text": [
      "Using TensorFlow backend.\n"
     ]
    }
   ],
   "source": [
    "import tensorflow as tf\n",
    "import keras\n",
    "import numpy as np\n",
    "import pandas as pd\n",
    "from os import listdir\n",
    "from os.path import isfile, join\n",
    "import os\n",
    "import matplotlib.pyplot as plt\n",
    "import scipy.io.wavfile as wav\n",
    "from sklearn.model_selection import train_test_split\n",
    "from sklearn.preprocessing import OneHotEncoder\n",
    "from keras.models import Sequential\n",
    "from keras.layers import Dense, Activation, Dropout, Conv2D, Flatten, MaxPooling2D\n",
    "import librosa\n",
    "import seaborn as sns\n",
    "import sklearn.metrics\n",
    "import h5py"
   ]
  },
  {
   "cell_type": "code",
   "execution_count": 2,
   "metadata": {},
   "outputs": [],
   "source": [
    "dir_path = '/home/duh17/Desktop/free-spoken-digit-dataset/recordings/'\n",
    "file_names = [f for f in listdir(dir_path) if isfile(join(dir_path, f)) and '.wav' in f]"
   ]
  },
  {
   "cell_type": "code",
   "execution_count": 4,
   "metadata": {},
   "outputs": [],
   "source": [
    "def save_model(model) :\n",
    "    model.save('MFCC.h5')\n",
    "\n",
    "def load_model() :\n",
    "    model = keras.models.load_model('MFCC.h5')\n",
    "    return model\n",
    "\n",
    "def load_from_wav(dir_path, file_names):\n",
    "    lst = []\n",
    "    for file_name in file_names :\n",
    "    #     print(file_name)\n",
    "        sample, sample_rate = librosa.load(dir_path+file_name, sr=8000)\n",
    "        mfccs = librosa.feature.mfcc(y=sample, sr=sample_rate, n_mfcc=24)\n",
    "        lst.append([mfccs, file_name])\n",
    "    return lst\n",
    "\n",
    "# save and load data X, y\n",
    "def input2file(X, Y):\n",
    "    f = h5py.File('input.h5', 'w')\n",
    "    f['X'] = X\n",
    "    f['Y'] = Y\n",
    "    f.close()\n",
    "\n",
    "def file2input():\n",
    "    f = h5py.File('input.h5', 'r')\n",
    "    X = f['X'][:]\n",
    "    Y = f['Y'][:]\n",
    "    f.close()\n",
    "    return X, Y\n",
    "\n",
    "def truncateMFCC(inmfcc, maxlength) :\n",
    "    \"\"\"\n",
    "    :inmfcc : input mfcc and file name\n",
    "    :rtype: truncated mfcc\n",
    "    \"\"\"\n",
    "    outmfcc = inmfcc[0][:,:3]\n",
    "    return outmfcc"
   ]
  },
  {
   "cell_type": "code",
   "execution_count": null,
   "metadata": {},
   "outputs": [],
   "source": [
    "'''\n",
    "We have a pretrained model and input.\n",
    "This Block will re-read the wav files. \n",
    "You can use :\n",
    "X, Y = file2input()\n",
    "to get the input directly.\n",
    "''' \n",
    "# load wave from .wav file\n",
    "lst = load_from_wav(dir_path, file_names)\n",
    "temp = []\n",
    "# We have 2000 wave files in total\n",
    "for i in range(2000) :\n",
    "    temp.append(lst[i][0].shape[1])\n",
    "min_len_of_input = min(temp)\n",
    "# lst[4][0][:,:3]\n",
    "\n",
    "res = []\n",
    "N_samples = 2000\n",
    "\n",
    "for i in lst :\n",
    "#     print(i)\n",
    "    res.append([MFCC(i, min_len_of_input), i[1]])\n",
    "# res\n",
    "\n",
    "#use numpy.array to store X, Y for further process\n",
    "X = []\n",
    "Y = []\n",
    "for i in res :\n",
    "    X.append(i[0])\n",
    "    Y.append(int(i[1][0]))\n",
    "X = np.asarray(X)\n",
    "tempY = np.asarray(Y)\n",
    "# Create One-Hot encodings for Y\n",
    "lsttmp = []\n",
    "for i in tempY :\n",
    "    tmp = []\n",
    "    for numbers in range(10) :\n",
    "        if numbers == i :\n",
    "            num = 1\n",
    "        else :\n",
    "            num = 0\n",
    "        tmp.append(num)\n",
    "    lsttmp.append(tmp)\n",
    "Y = np.asarray(lsttmp)\n",
    "# resize X to meet the requirement of Layer Conv2D\n",
    "X.resize(2000,24,3,1)\n",
    "print(\"X: \" + X.shape)\n",
    "print(\"Y:\" + Y.shape)"
   ]
  },
  {
   "cell_type": "code",
   "execution_count": 6,
   "metadata": {},
   "outputs": [],
   "source": [
    "X, Y = file2input()"
   ]
  },
  {
   "cell_type": "code",
   "execution_count": 7,
   "metadata": {},
   "outputs": [],
   "source": [
    "# Train and test set splition\n",
    "X_train, X_test, y_train, y_test = train_test_split(X, Y, test_size=0.33, random_state=42)\n",
    "# X_train = X_train.reshape(1340, 8000, 1)"
   ]
  },
  {
   "cell_type": "code",
   "execution_count": 16,
   "metadata": {},
   "outputs": [],
   "source": [
    "\"\"\"\n",
    "We have trained a model and you can use load_model() and ignore morel.compile and model.fit to reload it if you just want to check the result.\n",
    "model = load_model()\n",
    "\"\"\"\n",
    "\n",
    "# Keras layers settings\n",
    "model = Sequential()\n",
    "# model.add(Conv1D(filters=1, kernel_size=10, activation='relu', input_shape=(8000,)))\n",
    "model.add(Conv2D(32,(2,2),     \n",
    "                  input_shape=X_train.shape[1:],      \n",
    "                  activation= 'relu',\n",
    "                  padding='same')) \n",
    "# model.add(Dense(8000, activation='relu'))\n",
    "#model.add(Conv2D(32, (2,2), padding='valid'))\n",
    "model.add(MaxPooling2D(2,2))\n",
    "model.add(Dropout(0.25))\n",
    "model.add(Flatten())\n",
    "model.add(Dense(128, activation='relu'))varied\n",
    "model.add(Dense(64, activation='relu'))\n",
    "model.add(Dense(32, activation='relu'))\n",
    "model.add(Dense(10, activation='softmax'))"
   ]
  },
  {
   "cell_type": "code",
   "execution_count": 17,
   "metadata": {},
   "outputs": [],
   "source": [
    "# Keras training loss and optimization settings\n",
    "model.compile(loss=keras.losses.categorical_crossentropy,\n",
    "              optimizer=keras.optimizers.Adadelta(),\n",
    "              metrics=['accuracy'])"
   ]
  },
  {
   "cell_type": "code",
   "execution_count": 18,
   "metadata": {},
   "outputs": [
    {
     "name": "stdout",
     "output_type": "stream",
     "text": [
      "Train on 1072 samples, validate on 268 samples\n",
      "Epoch 1/100\n",
      "1072/1072 [==============================] - 0s 452us/step - loss: 4.0522 - acc: 0.1978 - val_loss: 1.9115 - val_acc: 0.3246\n",
      "Epoch 2/100\n",
      "1072/1072 [==============================] - 0s 117us/step - loss: 1.9455 - acc: 0.2892 - val_loss: 1.5942 - val_acc: 0.4515\n",
      "Epoch 3/100\n",
      "1072/1072 [==============================] - 0s 115us/step - loss: 1.6745 - acc: 0.3797 - val_loss: 1.5270 - val_acc: 0.4104\n",
      "Epoch 4/100\n",
      "1072/1072 [==============================] - 0s 118us/step - loss: 1.5754 - acc: 0.3881 - val_loss: 1.2453 - val_acc: 0.5261\n",
      "Epoch 5/100\n",
      "1072/1072 [==============================] - 0s 119us/step - loss: 1.3887 - acc: 0.4646 - val_loss: 1.1388 - val_acc: 0.5299\n",
      "Epoch 6/100\n",
      "1072/1072 [==============================] - 0s 112us/step - loss: 1.2392 - acc: 0.5121 - val_loss: 0.9938 - val_acc: 0.6269\n",
      "Epoch 7/100\n",
      "1072/1072 [==============================] - 0s 115us/step - loss: 1.1678 - acc: 0.5410 - val_loss: 1.0348 - val_acc: 0.5410\n",
      "Epoch 8/100\n",
      "1072/1072 [==============================] - 0s 121us/step - loss: 1.0396 - acc: 0.5914 - val_loss: 0.8673 - val_acc: 0.7015\n",
      "Epoch 9/100\n",
      "1072/1072 [==============================] - 0s 116us/step - loss: 0.9802 - acc: 0.6306 - val_loss: 0.7802 - val_acc: 0.7351\n",
      "Epoch 10/100\n",
      "1072/1072 [==============================] - 0s 121us/step - loss: 0.8603 - acc: 0.7052 - val_loss: 0.8179 - val_acc: 0.6418\n",
      "Epoch 11/100\n",
      "1072/1072 [==============================] - 0s 118us/step - loss: 0.8178 - acc: 0.7080 - val_loss: 0.6747 - val_acc: 0.7575\n",
      "Epoch 12/100\n",
      "1072/1072 [==============================] - 0s 115us/step - loss: 0.7415 - acc: 0.7313 - val_loss: 0.6274 - val_acc: 0.7575\n",
      "Epoch 13/100\n",
      "1072/1072 [==============================] - 0s 116us/step - loss: 0.6782 - acc: 0.7547 - val_loss: 0.7884 - val_acc: 0.7239\n",
      "Epoch 14/100\n",
      "1072/1072 [==============================] - 0s 118us/step - loss: 0.6398 - acc: 0.7621 - val_loss: 0.4888 - val_acc: 0.8433\n",
      "Epoch 15/100\n",
      "1072/1072 [==============================] - 0s 131us/step - loss: 0.6112 - acc: 0.7920 - val_loss: 0.4829 - val_acc: 0.8134\n",
      "Epoch 16/100\n",
      "1072/1072 [==============================] - 0s 125us/step - loss: 0.5462 - acc: 0.8013 - val_loss: 0.4374 - val_acc: 0.8545\n",
      "Epoch 17/100\n",
      "1072/1072 [==============================] - 0s 124us/step - loss: 0.5263 - acc: 0.8134 - val_loss: 0.6768 - val_acc: 0.7761\n",
      "Epoch 18/100\n",
      "1072/1072 [==============================] - 0s 123us/step - loss: 0.4927 - acc: 0.8218 - val_loss: 0.3786 - val_acc: 0.8918\n",
      "Epoch 19/100\n",
      "1072/1072 [==============================] - 0s 119us/step - loss: 0.4635 - acc: 0.8330 - val_loss: 0.5587 - val_acc: 0.8060\n",
      "Epoch 20/100\n",
      "1072/1072 [==============================] - 0s 118us/step - loss: 0.4390 - acc: 0.8573 - val_loss: 0.3330 - val_acc: 0.9254\n",
      "Epoch 21/100\n",
      "1072/1072 [==============================] - 0s 126us/step - loss: 0.3969 - acc: 0.8666 - val_loss: 0.3431 - val_acc: 0.8918\n",
      "Epoch 22/100\n",
      "1072/1072 [==============================] - 0s 124us/step - loss: 0.4021 - acc: 0.8545 - val_loss: 0.3028 - val_acc: 0.8993\n",
      "Epoch 23/100\n",
      "1072/1072 [==============================] - 0s 128us/step - loss: 0.3999 - acc: 0.8647 - val_loss: 0.3211 - val_acc: 0.9030\n",
      "Epoch 24/100\n",
      "1072/1072 [==============================] - 0s 126us/step - loss: 0.3864 - acc: 0.8713 - val_loss: 0.3093 - val_acc: 0.8881\n",
      "Epoch 25/100\n",
      "1072/1072 [==============================] - 0s 119us/step - loss: 0.3658 - acc: 0.8666 - val_loss: 0.3619 - val_acc: 0.8918\n",
      "Epoch 26/100\n",
      "1072/1072 [==============================] - 0s 121us/step - loss: 0.3361 - acc: 0.8797 - val_loss: 0.5531 - val_acc: 0.8246\n",
      "Epoch 27/100\n",
      "1072/1072 [==============================] - 0s 120us/step - loss: 0.3294 - acc: 0.8899 - val_loss: 0.2696 - val_acc: 0.9291\n",
      "Epoch 28/100\n",
      "1072/1072 [==============================] - 0s 118us/step - loss: 0.3182 - acc: 0.8890 - val_loss: 0.2854 - val_acc: 0.9291\n",
      "Epoch 29/100\n",
      "1072/1072 [==============================] - 0s 128us/step - loss: 0.3437 - acc: 0.8797 - val_loss: 0.3489 - val_acc: 0.8806\n",
      "Epoch 30/100\n",
      "1072/1072 [==============================] - 0s 136us/step - loss: 0.2839 - acc: 0.9002 - val_loss: 0.2877 - val_acc: 0.9030\n",
      "Epoch 31/100\n",
      "1072/1072 [==============================] - 0s 138us/step - loss: 0.2802 - acc: 0.9049 - val_loss: 0.2522 - val_acc: 0.9179\n",
      "Epoch 32/100\n",
      "1072/1072 [==============================] - 0s 121us/step - loss: 0.2537 - acc: 0.9151 - val_loss: 0.2845 - val_acc: 0.8955\n",
      "Epoch 33/100\n",
      "1072/1072 [==============================] - 0s 128us/step - loss: 0.2766 - acc: 0.9095 - val_loss: 0.2859 - val_acc: 0.9142\n",
      "Epoch 34/100\n",
      "1072/1072 [==============================] - 0s 126us/step - loss: 0.2694 - acc: 0.9114 - val_loss: 0.2363 - val_acc: 0.9142\n",
      "Epoch 35/100\n",
      "1072/1072 [==============================] - 0s 133us/step - loss: 0.2438 - acc: 0.9188 - val_loss: 0.3217 - val_acc: 0.9104\n",
      "Epoch 36/100\n",
      "1072/1072 [==============================] - 0s 133us/step - loss: 0.2540 - acc: 0.9095 - val_loss: 0.2182 - val_acc: 0.9291\n",
      "Epoch 37/100\n",
      "1072/1072 [==============================] - 0s 127us/step - loss: 0.2638 - acc: 0.9086 - val_loss: 0.3867 - val_acc: 0.8806\n",
      "Epoch 38/100\n",
      "1072/1072 [==============================] - 0s 127us/step - loss: 0.2314 - acc: 0.9319 - val_loss: 0.2478 - val_acc: 0.9254\n",
      "Epoch 39/100\n",
      "1072/1072 [==============================] - 0s 139us/step - loss: 0.2146 - acc: 0.9291 - val_loss: 0.3025 - val_acc: 0.8993\n",
      "Epoch 40/100\n",
      "1072/1072 [==============================] - 0s 121us/step - loss: 0.2068 - acc: 0.9291 - val_loss: 0.2109 - val_acc: 0.9403\n",
      "Epoch 41/100\n",
      "1072/1072 [==============================] - 0s 121us/step - loss: 0.2178 - acc: 0.9263 - val_loss: 0.1713 - val_acc: 0.9590\n",
      "Epoch 42/100\n",
      "1072/1072 [==============================] - 0s 123us/step - loss: 0.1629 - acc: 0.9450 - val_loss: 0.2486 - val_acc: 0.9328\n",
      "Epoch 43/100\n",
      "1072/1072 [==============================] - 0s 120us/step - loss: 0.2022 - acc: 0.9319 - val_loss: 0.1911 - val_acc: 0.9590\n",
      "Epoch 44/100\n",
      "1072/1072 [==============================] - 0s 119us/step - loss: 0.2172 - acc: 0.9328 - val_loss: 0.1853 - val_acc: 0.9403\n",
      "Epoch 45/100\n",
      "1072/1072 [==============================] - 0s 137us/step - loss: 0.1670 - acc: 0.9440 - val_loss: 0.2241 - val_acc: 0.9366\n",
      "Epoch 46/100\n",
      "1072/1072 [==============================] - 0s 130us/step - loss: 0.2177 - acc: 0.9282 - val_loss: 0.1814 - val_acc: 0.9440\n",
      "Epoch 47/100\n",
      "1072/1072 [==============================] - 0s 122us/step - loss: 0.1734 - acc: 0.9412 - val_loss: 0.2183 - val_acc: 0.9515\n",
      "Epoch 48/100\n",
      "1072/1072 [==============================] - 0s 128us/step - loss: 0.1685 - acc: 0.9478 - val_loss: 0.1847 - val_acc: 0.9440\n",
      "Epoch 49/100\n",
      "1072/1072 [==============================] - 0s 129us/step - loss: 0.1837 - acc: 0.9310 - val_loss: 0.2131 - val_acc: 0.9440\n",
      "Epoch 50/100\n",
      "1072/1072 [==============================] - 0s 132us/step - loss: 0.1818 - acc: 0.9422 - val_loss: 0.1624 - val_acc: 0.9552\n",
      "Epoch 51/100\n",
      "1072/1072 [==============================] - 0s 119us/step - loss: 0.1472 - acc: 0.9562 - val_loss: 0.1719 - val_acc: 0.9440\n",
      "Epoch 52/100\n",
      "1072/1072 [==============================] - 0s 118us/step - loss: 0.1679 - acc: 0.9431 - val_loss: 0.1769 - val_acc: 0.9664\n",
      "Epoch 53/100\n",
      "1072/1072 [==============================] - 0s 133us/step - loss: 0.1626 - acc: 0.9431 - val_loss: 0.2120 - val_acc: 0.9515\n",
      "Epoch 54/100\n",
      "1072/1072 [==============================] - 0s 106us/step - loss: 0.1406 - acc: 0.9543 - val_loss: 0.1902 - val_acc: 0.9590\n",
      "Epoch 55/100\n",
      "1072/1072 [==============================] - 0s 111us/step - loss: 0.1465 - acc: 0.9524 - val_loss: 0.2192 - val_acc: 0.9440\n",
      "Epoch 56/100\n",
      "1072/1072 [==============================] - 0s 111us/step - loss: 0.1784 - acc: 0.9403 - val_loss: 0.2239 - val_acc: 0.9478\n",
      "Epoch 57/100\n",
      "1072/1072 [==============================] - 0s 105us/step - loss: 0.1420 - acc: 0.9552 - val_loss: 0.1897 - val_acc: 0.9515\n",
      "Epoch 58/100\n",
      "1072/1072 [==============================] - 0s 107us/step - loss: 0.1173 - acc: 0.9580 - val_loss: 0.1979 - val_acc: 0.9515\n",
      "Epoch 59/100\n",
      "1072/1072 [==============================] - 0s 104us/step - loss: 0.1431 - acc: 0.9543 - val_loss: 0.1520 - val_acc: 0.9590\n",
      "Epoch 60/100\n"
     ]
    },
    {
     "name": "stdout",
     "output_type": "stream",
     "text": [
      "1072/1072 [==============================] - 0s 109us/step - loss: 0.1185 - acc: 0.9608 - val_loss: 0.1686 - val_acc: 0.9552\n",
      "Epoch 61/100\n",
      "1072/1072 [==============================] - 0s 132us/step - loss: 0.1248 - acc: 0.9580 - val_loss: 0.1733 - val_acc: 0.9552\n",
      "Epoch 62/100\n",
      "1072/1072 [==============================] - 0s 123us/step - loss: 0.1342 - acc: 0.9627 - val_loss: 0.2814 - val_acc: 0.9142\n",
      "Epoch 63/100\n",
      "1072/1072 [==============================] - 0s 112us/step - loss: 0.1294 - acc: 0.9487 - val_loss: 0.1817 - val_acc: 0.9515\n",
      "Epoch 64/100\n",
      "1072/1072 [==============================] - 0s 106us/step - loss: 0.1446 - acc: 0.9562 - val_loss: 0.1800 - val_acc: 0.9515\n",
      "Epoch 65/100\n",
      "1072/1072 [==============================] - 0s 118us/step - loss: 0.1272 - acc: 0.9608 - val_loss: 0.2027 - val_acc: 0.9478\n",
      "Epoch 66/100\n",
      "1072/1072 [==============================] - 0s 106us/step - loss: 0.1158 - acc: 0.9664 - val_loss: 0.1724 - val_acc: 0.9552\n",
      "Epoch 67/100\n",
      "1072/1072 [==============================] - 0s 102us/step - loss: 0.1054 - acc: 0.9646 - val_loss: 0.2203 - val_acc: 0.9440\n",
      "Epoch 68/100\n",
      "1072/1072 [==============================] - 0s 110us/step - loss: 0.1328 - acc: 0.9562 - val_loss: 0.1719 - val_acc: 0.9627\n",
      "Epoch 69/100\n",
      "1072/1072 [==============================] - 0s 121us/step - loss: 0.1041 - acc: 0.9618 - val_loss: 0.2285 - val_acc: 0.9590\n",
      "Epoch 70/100\n",
      "1072/1072 [==============================] - 0s 111us/step - loss: 0.1034 - acc: 0.9664 - val_loss: 0.1949 - val_acc: 0.9478\n",
      "Epoch 71/100\n",
      "1072/1072 [==============================] - 0s 107us/step - loss: 0.1075 - acc: 0.9655 - val_loss: 0.1679 - val_acc: 0.9515\n",
      "Epoch 72/100\n",
      "1072/1072 [==============================] - 0s 108us/step - loss: 0.0962 - acc: 0.9767 - val_loss: 0.1594 - val_acc: 0.9664\n",
      "Epoch 73/100\n",
      "1072/1072 [==============================] - 0s 105us/step - loss: 0.1071 - acc: 0.9701 - val_loss: 0.1606 - val_acc: 0.9590\n",
      "Epoch 74/100\n",
      "1072/1072 [==============================] - 0s 117us/step - loss: 0.1013 - acc: 0.9674 - val_loss: 0.2490 - val_acc: 0.9291\n",
      "Epoch 75/100\n",
      "1072/1072 [==============================] - 0s 111us/step - loss: 0.1079 - acc: 0.9674 - val_loss: 0.2077 - val_acc: 0.9478\n",
      "Epoch 76/100\n",
      "1072/1072 [==============================] - 0s 103us/step - loss: 0.1007 - acc: 0.9683 - val_loss: 0.1685 - val_acc: 0.9664\n",
      "Epoch 77/100\n",
      "1072/1072 [==============================] - 0s 109us/step - loss: 0.0834 - acc: 0.9711 - val_loss: 0.2058 - val_acc: 0.9328\n",
      "Epoch 78/100\n",
      "1072/1072 [==============================] - 0s 113us/step - loss: 0.0674 - acc: 0.9729 - val_loss: 0.2121 - val_acc: 0.9478\n",
      "Epoch 79/100\n",
      "1072/1072 [==============================] - 0s 110us/step - loss: 0.0802 - acc: 0.9757 - val_loss: 0.1858 - val_acc: 0.9478\n",
      "Epoch 80/100\n",
      "1072/1072 [==============================] - 0s 115us/step - loss: 0.0897 - acc: 0.9674 - val_loss: 0.2797 - val_acc: 0.9142\n",
      "Epoch 81/100\n",
      "1072/1072 [==============================] - 0s 106us/step - loss: 0.0742 - acc: 0.9692 - val_loss: 0.1766 - val_acc: 0.9627\n",
      "Epoch 82/100\n",
      "1072/1072 [==============================] - 0s 109us/step - loss: 0.1106 - acc: 0.9590 - val_loss: 0.1724 - val_acc: 0.9590\n",
      "Epoch 83/100\n",
      "1072/1072 [==============================] - 0s 106us/step - loss: 0.0949 - acc: 0.9646 - val_loss: 0.1542 - val_acc: 0.9664\n",
      "Epoch 84/100\n",
      "1072/1072 [==============================] - 0s 105us/step - loss: 0.0543 - acc: 0.9813 - val_loss: 0.1934 - val_acc: 0.9552\n",
      "Epoch 85/100\n",
      "1072/1072 [==============================] - 0s 104us/step - loss: 0.0866 - acc: 0.9683 - val_loss: 0.1590 - val_acc: 0.9627\n",
      "Epoch 86/100\n",
      "1072/1072 [==============================] - 0s 108us/step - loss: 0.0873 - acc: 0.9729 - val_loss: 0.1862 - val_acc: 0.9515\n",
      "Epoch 87/100\n",
      "1072/1072 [==============================] - 0s 111us/step - loss: 0.0788 - acc: 0.9711 - val_loss: 0.2425 - val_acc: 0.9328\n",
      "Epoch 88/100\n",
      "1072/1072 [==============================] - 0s 107us/step - loss: 0.0840 - acc: 0.9729 - val_loss: 0.1608 - val_acc: 0.9552\n",
      "Epoch 89/100\n",
      "1072/1072 [==============================] - 0s 102us/step - loss: 0.0656 - acc: 0.9757 - val_loss: 0.1745 - val_acc: 0.9515\n",
      "Epoch 90/100\n",
      "1072/1072 [==============================] - 0s 105us/step - loss: 0.0898 - acc: 0.9655 - val_loss: 0.1744 - val_acc: 0.9515\n",
      "Epoch 91/100\n",
      "1072/1072 [==============================] - 0s 104us/step - loss: 0.0573 - acc: 0.9804 - val_loss: 0.1804 - val_acc: 0.9590\n",
      "Epoch 92/100\n",
      "1072/1072 [==============================] - 0s 106us/step - loss: 0.0671 - acc: 0.9748 - val_loss: 0.1629 - val_acc: 0.9627\n",
      "Epoch 93/100\n",
      "1072/1072 [==============================] - 0s 104us/step - loss: 0.0630 - acc: 0.9767 - val_loss: 0.2092 - val_acc: 0.9590\n",
      "Epoch 94/100\n",
      "1072/1072 [==============================] - 0s 107us/step - loss: 0.0516 - acc: 0.9804 - val_loss: 0.2030 - val_acc: 0.9440\n",
      "Epoch 95/100\n",
      "1072/1072 [==============================] - 0s 116us/step - loss: 0.0897 - acc: 0.9711 - val_loss: 0.1933 - val_acc: 0.9515\n",
      "Epoch 96/100\n",
      "1072/1072 [==============================] - 0s 115us/step - loss: 0.0838 - acc: 0.9674 - val_loss: 0.1897 - val_acc: 0.9590\n",
      "Epoch 97/100\n",
      "1072/1072 [==============================] - 0s 106us/step - loss: 0.0740 - acc: 0.9748 - val_loss: 0.1875 - val_acc: 0.9552\n",
      "Epoch 98/100\n",
      "1072/1072 [==============================] - 0s 109us/step - loss: 0.0586 - acc: 0.9776 - val_loss: 0.1731 - val_acc: 0.9701\n",
      "Epoch 99/100\n",
      "1072/1072 [==============================] - 0s 113us/step - loss: 0.0633 - acc: 0.9748 - val_loss: 0.1969 - val_acc: 0.9664\n",
      "Epoch 100/100\n",
      "1072/1072 [==============================] - 0s 107us/step - loss: 0.0498 - acc: 0.9841 - val_loss: 0.2705 - val_acc: 0.9478\n"
     ]
    }
   ],
   "source": [
    "# Model fit\n",
    "history = model.fit(X_train,y_train, epochs=100, validation_split=0.2)"
   ]
  },
  {
   "cell_type": "code",
   "execution_count": 5,
   "metadata": {
    "scrolled": true
   },
   "outputs": [
    {
     "name": "stderr",
     "output_type": "stream",
     "text": [
      "WARNING: Logging before flag parsing goes to stderr.\n",
      "W0306 22:08:30.711623 140624049530368 deprecation.py:506] From /usr/lib/python3.7/site-packages/keras/backend/tensorflow_backend.py:3445: calling dropout (from tensorflow.python.ops.nn_ops) with keep_prob is deprecated and will be removed in a future version.\n",
      "Instructions for updating:\n",
      "Please use `rate` instead of `keep_prob`. Rate should be set to `rate = 1 - keep_prob`.\n"
     ]
    }
   ],
   "source": [
    "model = load_model()"
   ]
  },
  {
   "cell_type": "code",
   "execution_count": 8,
   "metadata": {},
   "outputs": [
    {
     "name": "stdout",
     "output_type": "stream",
     "text": [
      "660/660 [==============================] - 0s 77us/step\n"
     ]
    },
    {
     "data": {
      "text/plain": [
       "[0.08323431724372009, 0.9712121212121212]"
      ]
     },
     "execution_count": 8,
     "metadata": {},
     "output_type": "execute_result"
    }
   ],
   "source": [
    "# Model evaluation\n",
    "y_pred = model.predict(X_test)\n",
    "model.evaluate(X_test, y_test)"
   ]
  },
  {
   "cell_type": "code",
   "execution_count": 20,
   "metadata": {},
   "outputs": [
    {
     "data": {
      "image/png": "[encoded data removed]",
      "text/plain": [
       "<Figure size 432x288 with 2 Axes>"
      ]
     },
     "metadata": {
      "needs_background": "light"
     },
     "output_type": "display_data"
    }
   ],
   "source": [
    "# Confusion Matrix\n",
    "matrix = sklearn.metrics.confusion_matrix(y_test.argmax(axis=1), y_pred.argmax(axis=1))\n",
    "sns.heatmap(matrix, annot=True, fmt=\"d\", linewidths=.5, cmap=\"YlGnBu\")\n",
    "plt.savefig(\"confusion_heatgraph.png\", dpi=600)"
   ]
  },
  {
   "cell_type": "code",
   "execution_count": 9,
   "metadata": {},
   "outputs": [],
   "source": [
    "# Model Graph\n",
    "from keras.utils import plot_model\n",
    "plot_model(model, to_file='model.svg', show_shapes=True)"
   ]
  },
  {
   "cell_type": "code",
   "execution_count": 22,
   "metadata": {},
   "outputs": [
    {
     "data": {
      "image/png": "[encoded data removed]",
      "text/plain": [
       "<Figure size 432x288 with 1 Axes>"
      ]
     },
     "metadata": {
      "needs_background": "light"
     },
     "output_type": "display_data"
    }
   ],
   "source": [
    "# accu plot\n",
    "plt.plot(history.history['acc'])\n",
    "plt.plot(history.history['val_acc'])\n",
    "plt.title('Model accuracy')\n",
    "plt.ylabel('Accuracy')\n",
    "plt.xlabel('Epoch')\n",
    "plt.legend(['Train', 'Cross_Val'], loc='upper left')\n",
    "plt.savefig(\"accuracy.png\", dpi=600)\n",
    "plt.show()"
   ]
  },
  {
   "cell_type": "code",
   "execution_count": 23,
   "metadata": {},
   "outputs": [
    {
     "data": {
      "image/png": "[encoded data removed]",
      "text/plain": [
       "<Figure size 432x288 with 1 Axes>"
      ]
     },
     "metadata": {
      "needs_background": "light"
     },
     "output_type": "display_data"
    }
   ],
   "source": [
    "# loss plot\n",
    "plt.plot(history.history['loss'])\n",
    "plt.plot(history.history['val_loss'])\n",
    "plt.title('Model loss')\n",
    "plt.ylabel('Loss')\n",
    "plt.xlabel('Epoch')\n",
    "plt.legend(['Train', 'Cross_Val'], loc='upper left')\n",
    "plt.savefig(\"loss.png\", dpi=600)\n",
    "plt.show()"
   ]
  },
  {
   "cell_type": "code",
   "execution_count": null,
   "metadata": {},
   "outputs": [],
   "source": []
  }
 ],
 "metadata": {
  "kernelspec": {
   "display_name": "Python 3",
   "language": "python",
   "name": "python3"
  },
  "language_info": {
   "codemirror_mode": {
    "name": "ipython",
    "version": 3
   },
   "file_extension": ".py",
   "mimetype": "text/x-python",
   "name": "python",
   "nbconvert_exporter": "python",
   "pygments_lexer": "ipython3",
   "version": "3.6.7"
  }
 },
 "nbformat": 4,
 "nbformat_minor": 2
}
