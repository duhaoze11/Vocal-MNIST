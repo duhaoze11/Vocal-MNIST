{
 "cells": [
  {
   "cell_type": "code",
   "execution_count": 12,
   "metadata": {},
   "outputs": [],
   "source": [
    "import tensorflow as tf\n",
    "import keras\n",
    "import numpy as np\n",
    "import pandas as pd\n",
    "from os import listdir\n",
    "from os.path import isfile, join\n",
    "import os\n",
    "from matplotlib.image import imread\n",
    "import matplotlib.pyplot as plt\n",
    "import scipy.io.wavfile as wav\n",
    "from sklearn.model_selection import train_test_split\n",
    "from sklearn.preprocessing import OneHotEncoder\n",
    "from keras.models import Sequential\n",
    "from keras.layers import Dense, Activation, Dropout, Conv2D, Flatten, MaxPooling2D\n",
    "import librosa\n",
    "import seaborn as sns\n",
    "import sklearn.metrics"
   ]
  },
  {
   "cell_type": "code",
   "execution_count": 13,
   "metadata": {},
   "outputs": [],
   "source": [
    "dir_path = '/home/duh17/Desktop/free-spoken-digit-dataset/recordings/'\n",
    "file_names = [f for f in listdir(dir_path) if isfile(join(dir_path, f)) and '.wav' in f]"
   ]
  },
  {
   "cell_type": "code",
   "execution_count": 14,
   "metadata": {},
   "outputs": [],
   "source": [
    "lst = []\n",
    "for file_name in file_names :\n",
    "#     print(file_name)\n",
    "    sample, sample_rate = librosa.load(dir_path+file_name, sr=8000)\n",
    "    mfccs = librosa.feature.mfcc(y=sample, sr=sample_rate, n_mfcc=24)\n",
    "    lst.append([mfccs, file_name])"
   ]
  },
  {
   "cell_type": "code",
   "execution_count": 15,
   "metadata": {},
   "outputs": [],
   "source": [
    "temp = []\n",
    "for i in range(2000) :\n",
    "    temp.append(lst[i][0].shape[1])\n",
    "min_len_of_input = min(temp)\n",
    "# lst[4][0][:,:3]"
   ]
  },
  {
   "cell_type": "code",
   "execution_count": 16,
   "metadata": {},
   "outputs": [],
   "source": [
    "def purify(inmfcc, maxlength) :\n",
    "    \"\"\"\n",
    "    :inmfcc : input mfcc and file name\n",
    "    :rtype: truncated mfcc\n",
    "    \"\"\"\n",
    "    outmfcc = inmfcc[0][:,:3]\n",
    "    return outmfcc"
   ]
  },
  {
   "cell_type": "code",
   "execution_count": 17,
   "metadata": {},
   "outputs": [],
   "source": [
    "res = []\n",
    "N_samples = 2000\n",
    "\n",
    "for i in lst :\n",
    "#     print(i)\n",
    "    res.append([purify(i, min_len_of_input), i[1]])\n",
    "    "
   ]
  },
  {
   "cell_type": "code",
   "execution_count": 18,
   "metadata": {},
   "outputs": [],
   "source": [
    "# res"
   ]
  },
  {
   "cell_type": "code",
   "execution_count": 19,
   "metadata": {},
   "outputs": [],
   "source": [
    "X = []\n",
    "Y = []\n",
    "for i in res :\n",
    "    X.append(i[0])\n",
    "    Y.append(int(i[1][0]))\n",
    "X = np.asarray(X)\n",
    "tempY = np.asarray(Y)"
   ]
  },
  {
   "cell_type": "code",
   "execution_count": 20,
   "metadata": {},
   "outputs": [],
   "source": [
    "lsttmp = []\n",
    "for i in tempY :\n",
    "    tmp = []\n",
    "    for numbers in range(10) :\n",
    "        if numbers == i :\n",
    "            num = 1\n",
    "        else :\n",
    "            num = 0\n",
    "        tmp.append(num)\n",
    "    lsttmp.append(tmp)\n"
   ]
  },
  {
   "cell_type": "code",
   "execution_count": 21,
   "metadata": {},
   "outputs": [
    {
     "data": {
      "text/plain": [
       "array([[0, 0, 0, ..., 0, 1, 0],\n",
       "       [0, 0, 0, ..., 0, 0, 0],\n",
       "       [1, 0, 0, ..., 0, 0, 0],\n",
       "       ...,\n",
       "       [0, 0, 0, ..., 0, 1, 0],\n",
       "       [1, 0, 0, ..., 0, 0, 0],\n",
       "       [0, 0, 0, ..., 1, 0, 0]])"
      ]
     },
     "execution_count": 21,
     "metadata": {},
     "output_type": "execute_result"
    }
   ],
   "source": [
    "Y = np.asarray(lsttmp)\n",
    "Y"
   ]
  },
  {
   "cell_type": "code",
   "execution_count": 22,
   "metadata": {},
   "outputs": [
    {
     "data": {
      "text/plain": [
       "(2000, 24, 3, 1)"
      ]
     },
     "execution_count": 22,
     "metadata": {},
     "output_type": "execute_result"
    }
   ],
   "source": [
    "X.resize(2000,24,3,1)\n",
    "X.shape"
   ]
  },
  {
   "cell_type": "code",
   "execution_count": 37,
   "metadata": {},
   "outputs": [],
   "source": [
    "X_train, X_test, y_train, y_test = train_test_split(X, Y, test_size=0.33, random_state=42)\n",
    "# X_train = X_train.reshape(1340, 8000, 1)"
   ]
  },
  {
   "cell_type": "code",
   "execution_count": 38,
   "metadata": {},
   "outputs": [],
   "source": [
    "model = Sequential()\n",
    "# model.add(Conv1D(filters=1, kernel_size=10, activation='relu', input_shape=(8000,)))\n",
    "model.add(Conv2D(32,(2,2),     \n",
    "                  input_shape=X_train.shape[1:],      \n",
    "                  activation= 'relu',\n",
    "                  padding='same')) \n",
    "# model.add(Dense(8000, activation='relu'))\n",
    "#model.add(Conv2D(32, (2,2), padding='valid'))\n",
    "model.add(MaxPooling2D(2,2))\n",
    "model.add(Dropout(0.25))\n",
    "model.add(Flatten())\n",
    "model.add(Dense(128, activation='relu'))\n",
    "model.add(Dense(64, activation='relu'))\n",
    "model.add(Dense(32, activation='relu'))\n",
    "model.add(Dense(10, activation='softmax'))"
   ]
  },
  {
   "cell_type": "code",
   "execution_count": 39,
   "metadata": {},
   "outputs": [],
   "source": [
    "model.compile(loss=keras.losses.categorical_crossentropy,\n",
    "              optimizer=keras.optimizers.Adadelta(),\n",
    "              metrics=['accuracy'])"
   ]
  },
  {
   "cell_type": "code",
   "execution_count": 40,
   "metadata": {
    "scrolled": false
   },
   "outputs": [
    {
     "name": "stdout",
     "output_type": "stream",
     "text": [
      "Train on 1072 samples, validate on 268 samples\n",
      "Epoch 1/100\n",
      "1072/1072 [==============================] - 0s 437us/step - loss: 3.2284 - acc: 0.2071 - val_loss: 1.7862 - val_acc: 0.3582\n",
      "Epoch 2/100\n",
      "1072/1072 [==============================] - 0s 115us/step - loss: 1.7511 - acc: 0.3909 - val_loss: 1.7499 - val_acc: 0.3507\n",
      "Epoch 3/100\n",
      "1072/1072 [==============================] - 0s 120us/step - loss: 1.4464 - acc: 0.5056 - val_loss: 1.0645 - val_acc: 0.6157\n",
      "Epoch 4/100\n",
      "1072/1072 [==============================] - 0s 120us/step - loss: 1.1098 - acc: 0.6278 - val_loss: 0.9668 - val_acc: 0.6194\n",
      "Epoch 5/100\n",
      "1072/1072 [==============================] - 0s 122us/step - loss: 0.8672 - acc: 0.6931 - val_loss: 0.6928 - val_acc: 0.7761\n",
      "Epoch 6/100\n",
      "1072/1072 [==============================] - 0s 127us/step - loss: 0.7259 - acc: 0.7463 - val_loss: 0.5812 - val_acc: 0.8172\n",
      "Epoch 7/100\n",
      "1072/1072 [==============================] - 0s 117us/step - loss: 0.6241 - acc: 0.7761 - val_loss: 0.8242 - val_acc: 0.7388\n",
      "Epoch 8/100\n",
      "1072/1072 [==============================] - 0s 117us/step - loss: 0.6385 - acc: 0.7659 - val_loss: 0.4305 - val_acc: 0.8619\n",
      "Epoch 9/100\n",
      "1072/1072 [==============================] - 0s 119us/step - loss: 0.5404 - acc: 0.8218 - val_loss: 0.4385 - val_acc: 0.8619\n",
      "Epoch 10/100\n",
      "1072/1072 [==============================] - 0s 117us/step - loss: 0.5163 - acc: 0.8246 - val_loss: 0.4379 - val_acc: 0.8470\n",
      "Epoch 11/100\n",
      "1072/1072 [==============================] - 0s 118us/step - loss: 0.4635 - acc: 0.8368 - val_loss: 0.3153 - val_acc: 0.9030\n",
      "Epoch 12/100\n",
      "1072/1072 [==============================] - 0s 120us/step - loss: 0.4249 - acc: 0.8405 - val_loss: 0.3025 - val_acc: 0.9030\n",
      "Epoch 13/100\n",
      "1072/1072 [==============================] - 0s 120us/step - loss: 0.4446 - acc: 0.8507 - val_loss: 0.2788 - val_acc: 0.9067\n",
      "Epoch 14/100\n",
      "1072/1072 [==============================] - 0s 132us/step - loss: 0.3375 - acc: 0.8918 - val_loss: 0.4179 - val_acc: 0.8731\n",
      "Epoch 15/100\n",
      "1072/1072 [==============================] - 0s 121us/step - loss: 0.3636 - acc: 0.8722 - val_loss: 0.2699 - val_acc: 0.9328\n",
      "Epoch 16/100\n",
      "1072/1072 [==============================] - 0s 116us/step - loss: 0.3373 - acc: 0.8815 - val_loss: 0.3307 - val_acc: 0.8955\n",
      "Epoch 17/100\n",
      "1072/1072 [==============================] - 0s 121us/step - loss: 0.3428 - acc: 0.8871 - val_loss: 0.3176 - val_acc: 0.8881\n",
      "Epoch 18/100\n",
      "1072/1072 [==============================] - 0s 126us/step - loss: 0.3246 - acc: 0.8909 - val_loss: 0.2848 - val_acc: 0.9030\n",
      "Epoch 19/100\n",
      "1072/1072 [==============================] - 0s 123us/step - loss: 0.2856 - acc: 0.9011 - val_loss: 0.2473 - val_acc: 0.9328\n",
      "Epoch 20/100\n",
      "1072/1072 [==============================] - 0s 123us/step - loss: 0.2499 - acc: 0.9188 - val_loss: 0.2960 - val_acc: 0.8993\n",
      "Epoch 21/100\n",
      "1072/1072 [==============================] - 0s 136us/step - loss: 0.2824 - acc: 0.9030 - val_loss: 0.2079 - val_acc: 0.9440\n",
      "Epoch 22/100\n",
      "1072/1072 [==============================] - 0s 130us/step - loss: 0.2465 - acc: 0.9123 - val_loss: 0.2530 - val_acc: 0.9104\n",
      "Epoch 23/100\n",
      "1072/1072 [==============================] - 0s 128us/step - loss: 0.2486 - acc: 0.9179 - val_loss: 0.3108 - val_acc: 0.8769\n",
      "Epoch 24/100\n",
      "1072/1072 [==============================] - 0s 139us/step - loss: 0.2284 - acc: 0.9254 - val_loss: 0.2388 - val_acc: 0.9216\n",
      "Epoch 25/100\n",
      "1072/1072 [==============================] - 0s 129us/step - loss: 0.1899 - acc: 0.9356 - val_loss: 0.2785 - val_acc: 0.9067\n",
      "Epoch 26/100\n",
      "1072/1072 [==============================] - 0s 127us/step - loss: 0.2383 - acc: 0.9235 - val_loss: 0.3625 - val_acc: 0.9030\n",
      "Epoch 27/100\n",
      "1072/1072 [==============================] - 0s 124us/step - loss: 0.1947 - acc: 0.9347 - val_loss: 0.2642 - val_acc: 0.9216\n",
      "Epoch 28/100\n",
      "1072/1072 [==============================] - 0s 133us/step - loss: 0.2123 - acc: 0.9226 - val_loss: 0.2399 - val_acc: 0.9291\n",
      "Epoch 29/100\n",
      "1072/1072 [==============================] - 0s 127us/step - loss: 0.2061 - acc: 0.9291 - val_loss: 0.2479 - val_acc: 0.9366\n",
      "Epoch 30/100\n",
      "1072/1072 [==============================] - 0s 124us/step - loss: 0.1772 - acc: 0.9468 - val_loss: 0.2001 - val_acc: 0.9366\n",
      "Epoch 31/100\n",
      "1072/1072 [==============================] - 0s 129us/step - loss: 0.1817 - acc: 0.9328 - val_loss: 0.2274 - val_acc: 0.9254\n",
      "Epoch 32/100\n",
      "1072/1072 [==============================] - 0s 119us/step - loss: 0.1571 - acc: 0.9422 - val_loss: 0.1868 - val_acc: 0.9403\n",
      "Epoch 33/100\n",
      "1072/1072 [==============================] - 0s 130us/step - loss: 0.1719 - acc: 0.9440 - val_loss: 0.1763 - val_acc: 0.9403\n",
      "Epoch 34/100\n",
      "1072/1072 [==============================] - 0s 126us/step - loss: 0.1437 - acc: 0.9440 - val_loss: 0.2090 - val_acc: 0.9515\n",
      "Epoch 35/100\n",
      "1072/1072 [==============================] - 0s 136us/step - loss: 0.1542 - acc: 0.9468 - val_loss: 0.2134 - val_acc: 0.9366\n",
      "Epoch 36/100\n",
      "1072/1072 [==============================] - 0s 134us/step - loss: 0.1356 - acc: 0.9506 - val_loss: 0.1845 - val_acc: 0.9552\n",
      "Epoch 37/100\n",
      "1072/1072 [==============================] - 0s 132us/step - loss: 0.1341 - acc: 0.9468 - val_loss: 0.1954 - val_acc: 0.9440\n",
      "Epoch 38/100\n",
      "1072/1072 [==============================] - 0s 123us/step - loss: 0.1291 - acc: 0.9571 - val_loss: 0.1805 - val_acc: 0.9440\n",
      "Epoch 39/100\n",
      "1072/1072 [==============================] - 0s 131us/step - loss: 0.1250 - acc: 0.9552 - val_loss: 0.2077 - val_acc: 0.9366\n",
      "Epoch 40/100\n",
      "1072/1072 [==============================] - 0s 125us/step - loss: 0.1427 - acc: 0.9496 - val_loss: 0.2010 - val_acc: 0.9478\n",
      "Epoch 41/100\n",
      "1072/1072 [==============================] - 0s 129us/step - loss: 0.1224 - acc: 0.9524 - val_loss: 0.2630 - val_acc: 0.9179\n",
      "Epoch 42/100\n",
      "1072/1072 [==============================] - 0s 127us/step - loss: 0.1389 - acc: 0.9459 - val_loss: 0.3307 - val_acc: 0.8955\n",
      "Epoch 43/100\n",
      "1072/1072 [==============================] - 0s 125us/step - loss: 0.1469 - acc: 0.9450 - val_loss: 0.2551 - val_acc: 0.9291\n",
      "Epoch 44/100\n",
      "1072/1072 [==============================] - 0s 137us/step - loss: 0.1145 - acc: 0.9627 - val_loss: 0.1837 - val_acc: 0.9366\n",
      "Epoch 45/100\n",
      "1072/1072 [==============================] - 0s 132us/step - loss: 0.1405 - acc: 0.9552 - val_loss: 0.2533 - val_acc: 0.9254\n",
      "Epoch 46/100\n",
      "1072/1072 [==============================] - 0s 115us/step - loss: 0.1178 - acc: 0.9618 - val_loss: 0.1905 - val_acc: 0.9515\n",
      "Epoch 47/100\n",
      "1072/1072 [==============================] - 0s 125us/step - loss: 0.1156 - acc: 0.9646 - val_loss: 0.2111 - val_acc: 0.9440\n",
      "Epoch 48/100\n",
      "1072/1072 [==============================] - 0s 123us/step - loss: 0.1109 - acc: 0.9590 - val_loss: 0.2915 - val_acc: 0.9254\n",
      "Epoch 49/100\n",
      "1072/1072 [==============================] - 0s 136us/step - loss: 0.0828 - acc: 0.9701 - val_loss: 0.2337 - val_acc: 0.9366\n",
      "Epoch 50/100\n",
      "1072/1072 [==============================] - 0s 139us/step - loss: 0.1189 - acc: 0.9580 - val_loss: 0.2238 - val_acc: 0.9291\n",
      "Epoch 51/100\n",
      "1072/1072 [==============================] - 0s 133us/step - loss: 0.1051 - acc: 0.9618 - val_loss: 0.2639 - val_acc: 0.9366\n",
      "Epoch 52/100\n",
      "1072/1072 [==============================] - 0s 118us/step - loss: 0.1198 - acc: 0.9562 - val_loss: 0.1817 - val_acc: 0.9552\n",
      "Epoch 53/100\n",
      "1072/1072 [==============================] - 0s 129us/step - loss: 0.0801 - acc: 0.9757 - val_loss: 0.1809 - val_acc: 0.9552\n",
      "Epoch 54/100\n",
      "1072/1072 [==============================] - 0s 129us/step - loss: 0.0854 - acc: 0.9720 - val_loss: 0.1829 - val_acc: 0.9590\n",
      "Epoch 55/100\n",
      "1072/1072 [==============================] - 0s 133us/step - loss: 0.0604 - acc: 0.9795 - val_loss: 0.1819 - val_acc: 0.9590\n",
      "Epoch 56/100\n",
      "1072/1072 [==============================] - 0s 115us/step - loss: 0.0702 - acc: 0.9785 - val_loss: 0.2670 - val_acc: 0.9328\n",
      "Epoch 57/100\n",
      "1072/1072 [==============================] - 0s 133us/step - loss: 0.1133 - acc: 0.9599 - val_loss: 0.2572 - val_acc: 0.9403\n",
      "Epoch 58/100\n",
      "1072/1072 [==============================] - 0s 127us/step - loss: 0.0757 - acc: 0.9729 - val_loss: 0.2225 - val_acc: 0.9515\n",
      "Epoch 59/100\n",
      "1072/1072 [==============================] - 0s 124us/step - loss: 0.0840 - acc: 0.9701 - val_loss: 0.2107 - val_acc: 0.9590\n",
      "Epoch 60/100\n"
     ]
    },
    {
     "name": "stdout",
     "output_type": "stream",
     "text": [
      "1072/1072 [==============================] - 0s 129us/step - loss: 0.0746 - acc: 0.9748 - val_loss: 0.2668 - val_acc: 0.9440\n",
      "Epoch 61/100\n",
      "1072/1072 [==============================] - 0s 114us/step - loss: 0.1229 - acc: 0.9562 - val_loss: 0.2148 - val_acc: 0.9552\n",
      "Epoch 62/100\n",
      "1072/1072 [==============================] - 0s 133us/step - loss: 0.0556 - acc: 0.9841 - val_loss: 0.1979 - val_acc: 0.9664\n",
      "Epoch 63/100\n",
      "1072/1072 [==============================] - 0s 118us/step - loss: 0.0775 - acc: 0.9683 - val_loss: 0.2744 - val_acc: 0.9366\n",
      "Epoch 64/100\n",
      "1072/1072 [==============================] - 0s 122us/step - loss: 0.0643 - acc: 0.9776 - val_loss: 0.2108 - val_acc: 0.9552\n",
      "Epoch 65/100\n",
      "1072/1072 [==============================] - 0s 132us/step - loss: 0.0913 - acc: 0.9748 - val_loss: 0.1786 - val_acc: 0.9552\n",
      "Epoch 66/100\n",
      "1072/1072 [==============================] - 0s 119us/step - loss: 0.0562 - acc: 0.9860 - val_loss: 0.2074 - val_acc: 0.9552\n",
      "Epoch 67/100\n",
      "1072/1072 [==============================] - 0s 119us/step - loss: 0.0922 - acc: 0.9674 - val_loss: 0.1907 - val_acc: 0.9590\n",
      "Epoch 68/100\n",
      "1072/1072 [==============================] - 0s 122us/step - loss: 0.0829 - acc: 0.9692 - val_loss: 0.2378 - val_acc: 0.9478\n",
      "Epoch 69/100\n",
      "1072/1072 [==============================] - 0s 119us/step - loss: 0.0453 - acc: 0.9860 - val_loss: 0.2025 - val_acc: 0.9627\n",
      "Epoch 70/100\n",
      "1072/1072 [==============================] - 0s 118us/step - loss: 0.0725 - acc: 0.9757 - val_loss: 0.2172 - val_acc: 0.9627\n",
      "Epoch 71/100\n",
      "1072/1072 [==============================] - 0s 121us/step - loss: 0.0733 - acc: 0.9729 - val_loss: 0.2320 - val_acc: 0.9478\n",
      "Epoch 72/100\n",
      "1072/1072 [==============================] - 0s 135us/step - loss: 0.0547 - acc: 0.9832 - val_loss: 0.2448 - val_acc: 0.9478\n",
      "Epoch 73/100\n",
      "1072/1072 [==============================] - 0s 125us/step - loss: 0.0545 - acc: 0.9785 - val_loss: 0.1771 - val_acc: 0.9627\n",
      "Epoch 74/100\n",
      "1072/1072 [==============================] - 0s 116us/step - loss: 0.0512 - acc: 0.9823 - val_loss: 0.1985 - val_acc: 0.9552\n",
      "Epoch 75/100\n",
      "1072/1072 [==============================] - 0s 117us/step - loss: 0.0376 - acc: 0.9860 - val_loss: 0.2194 - val_acc: 0.9590\n",
      "Epoch 76/100\n",
      "1072/1072 [==============================] - 0s 124us/step - loss: 0.0636 - acc: 0.9813 - val_loss: 0.1898 - val_acc: 0.9590\n",
      "Epoch 77/100\n",
      "1072/1072 [==============================] - 0s 127us/step - loss: 0.0441 - acc: 0.9841 - val_loss: 0.1719 - val_acc: 0.9627\n",
      "Epoch 78/100\n",
      "1072/1072 [==============================] - 0s 126us/step - loss: 0.0664 - acc: 0.9739 - val_loss: 0.1762 - val_acc: 0.9627\n",
      "Epoch 79/100\n",
      "1072/1072 [==============================] - 0s 130us/step - loss: 0.0414 - acc: 0.9860 - val_loss: 0.1909 - val_acc: 0.9590\n",
      "Epoch 80/100\n",
      "1072/1072 [==============================] - 0s 133us/step - loss: 0.0512 - acc: 0.9795 - val_loss: 0.1703 - val_acc: 0.9664\n",
      "Epoch 81/100\n",
      "1072/1072 [==============================] - 0s 136us/step - loss: 0.0504 - acc: 0.9813 - val_loss: 0.1559 - val_acc: 0.9627\n",
      "Epoch 82/100\n",
      "1072/1072 [==============================] - 0s 136us/step - loss: 0.0395 - acc: 0.9851 - val_loss: 0.3828 - val_acc: 0.9030\n",
      "Epoch 83/100\n",
      "1072/1072 [==============================] - 0s 125us/step - loss: 0.0785 - acc: 0.9729 - val_loss: 0.1445 - val_acc: 0.9515\n",
      "Epoch 84/100\n",
      "1072/1072 [==============================] - 0s 119us/step - loss: 0.0612 - acc: 0.9795 - val_loss: 0.1707 - val_acc: 0.9627\n",
      "Epoch 85/100\n",
      "1072/1072 [==============================] - 0s 124us/step - loss: 0.0463 - acc: 0.9813 - val_loss: 0.2232 - val_acc: 0.9627\n",
      "Epoch 86/100\n",
      "1072/1072 [==============================] - 0s 129us/step - loss: 0.0593 - acc: 0.9841 - val_loss: 0.1894 - val_acc: 0.9627\n",
      "Epoch 87/100\n",
      "1072/1072 [==============================] - 0s 131us/step - loss: 0.0702 - acc: 0.9729 - val_loss: 0.2000 - val_acc: 0.9590\n",
      "Epoch 88/100\n",
      "1072/1072 [==============================] - 0s 124us/step - loss: 0.0405 - acc: 0.9851 - val_loss: 0.1821 - val_acc: 0.9590\n",
      "Epoch 89/100\n",
      "1072/1072 [==============================] - 0s 130us/step - loss: 0.0457 - acc: 0.9823 - val_loss: 0.2506 - val_acc: 0.9440\n",
      "Epoch 90/100\n",
      "1072/1072 [==============================] - 0s 122us/step - loss: 0.0719 - acc: 0.9729 - val_loss: 0.2038 - val_acc: 0.9478\n",
      "Epoch 91/100\n",
      "1072/1072 [==============================] - 0s 123us/step - loss: 0.0591 - acc: 0.9795 - val_loss: 0.1779 - val_acc: 0.9664\n",
      "Epoch 92/100\n",
      "1072/1072 [==============================] - 0s 116us/step - loss: 0.0311 - acc: 0.9888 - val_loss: 0.1898 - val_acc: 0.9627\n",
      "Epoch 93/100\n",
      "1072/1072 [==============================] - 0s 128us/step - loss: 0.0575 - acc: 0.9823 - val_loss: 0.2439 - val_acc: 0.9478\n",
      "Epoch 94/100\n",
      "1072/1072 [==============================] - 0s 131us/step - loss: 0.0495 - acc: 0.9851 - val_loss: 0.1920 - val_acc: 0.9552\n",
      "Epoch 95/100\n",
      "1072/1072 [==============================] - 0s 124us/step - loss: 0.0304 - acc: 0.9888 - val_loss: 0.1769 - val_acc: 0.9590\n",
      "Epoch 96/100\n",
      "1072/1072 [==============================] - 0s 134us/step - loss: 0.0437 - acc: 0.9832 - val_loss: 0.1907 - val_acc: 0.9515\n",
      "Epoch 97/100\n",
      "1072/1072 [==============================] - 0s 123us/step - loss: 0.0377 - acc: 0.9888 - val_loss: 0.1934 - val_acc: 0.9552\n",
      "Epoch 98/100\n",
      "1072/1072 [==============================] - 0s 122us/step - loss: 0.0372 - acc: 0.9841 - val_loss: 0.1847 - val_acc: 0.9627\n",
      "Epoch 99/100\n",
      "1072/1072 [==============================] - 0s 135us/step - loss: 0.0563 - acc: 0.9813 - val_loss: 0.2220 - val_acc: 0.9515\n",
      "Epoch 100/100\n",
      "1072/1072 [==============================] - 0s 123us/step - loss: 0.0370 - acc: 0.9897 - val_loss: 0.1947 - val_acc: 0.9664\n"
     ]
    }
   ],
   "source": [
    "history = model.fit(X_train,y_train, epochs=100, validation_split=0.2)"
   ]
  },
  {
   "cell_type": "code",
   "execution_count": 41,
   "metadata": {},
   "outputs": [
    {
     "name": "stdout",
     "output_type": "stream",
     "text": [
      "660/660 [==============================] - 0s 30us/step\n"
     ]
    },
    {
     "data": {
      "text/plain": [
       "[0.08323432238716068, 0.9712121212121212]"
      ]
     },
     "execution_count": 41,
     "metadata": {},
     "output_type": "execute_result"
    }
   ],
   "source": [
    "y_pred = model.predict(X_test)\n",
    "model.evaluate(X_test, y_test)"
   ]
  },
  {
   "cell_type": "code",
   "execution_count": null,
   "metadata": {},
   "outputs": [],
   "source": [
    "jktest = res[1024][0]\n",
    "res[1024][1]\n",
    "\n",
    "jk_pred = model.predict(jktest.reshape(1,24,3,1))\n",
    "\n",
    "jk_pred"
   ]
  },
  {
   "cell_type": "code",
   "execution_count": null,
   "metadata": {},
   "outputs": [],
   "source": [
    "Y[1024]"
   ]
  },
  {
   "cell_type": "code",
   "execution_count": 42,
   "metadata": {},
   "outputs": [],
   "source": [
    "def save_model(model) :\n",
    "    model.save('MFCC.h5')"
   ]
  },
  {
   "cell_type": "code",
   "execution_count": 43,
   "metadata": {},
   "outputs": [],
   "source": [
    "save_model(model)"
   ]
  },
  {
   "cell_type": "code",
   "execution_count": 29,
   "metadata": {},
   "outputs": [],
   "source": [
    "def load_model() :\n",
    "    model = keras.models.load_model('MFCC.h5')\n",
    "    return model"
   ]
  },
  {
   "cell_type": "code",
   "execution_count": 5,
   "metadata": {},
   "outputs": [
    {
     "name": "stderr",
     "output_type": "stream",
     "text": [
      "WARNING: Logging before flag parsing goes to stderr.\n",
      "W0306 13:35:19.669106 140417789208064 deprecation.py:506] From /usr/lib/python3.7/site-packages/keras/backend/tensorflow_backend.py:3445: calling dropout (from tensorflow.python.ops.nn_ops) with keep_prob is deprecated and will be removed in a future version.\n",
      "Instructions for updating:\n",
      "Please use `rate` instead of `keep_prob`. Rate should be set to `rate = 1 - keep_prob`.\n"
     ]
    }
   ],
   "source": [
    "model = load_model()"
   ]
  },
  {
   "cell_type": "code",
   "execution_count": 44,
   "metadata": {},
   "outputs": [],
   "source": [
    "matrix = sklearn.metrics.confusion_matrix(y_test.argmax(axis=1), y_pred.argmax(axis=1))"
   ]
  },
  {
   "cell_type": "code",
   "execution_count": 45,
   "metadata": {},
   "outputs": [
    {
     "data": {
      "text/plain": [
       "array([[70,  0,  0,  1,  0,  0,  1,  0,  0,  0],\n",
       "       [ 0, 72,  0,  0,  3,  0,  0,  0,  0,  0],\n",
       "       [ 0,  0, 59,  2,  1,  0,  2,  0,  0,  0],\n",
       "       [ 1,  0,  0, 53,  0,  0,  2,  0,  0,  0],\n",
       "       [ 0,  0,  0,  0, 60,  1,  0,  0,  0,  0],\n",
       "       [ 0,  0,  0,  0,  0, 66,  0,  0,  0,  0],\n",
       "       [ 0,  0,  0,  1,  0,  0, 59,  0,  0,  0],\n",
       "       [ 0,  0,  0,  0,  0,  0,  3, 67,  0,  0],\n",
       "       [ 0,  0,  0,  0,  0,  0,  1,  0, 62,  0],\n",
       "       [ 0,  0,  0,  0,  0,  0,  0,  0,  0, 73]])"
      ]
     },
     "execution_count": 45,
     "metadata": {},
     "output_type": "execute_result"
    }
   ],
   "source": [
    "matrix"
   ]
  },
  {
   "cell_type": "code",
   "execution_count": 46,
   "metadata": {},
   "outputs": [
    {
     "data": {
      "image/png": "[encoded data removed]",
      "text/plain": [
       "<Figure size 432x288 with 2 Axes>"
      ]
     },
     "metadata": {
      "needs_background": "light"
     },
     "output_type": "display_data"
    }
   ],
   "source": [
    "sns.heatmap(matrix, annot=True, fmt=\"d\", linewidths=.5, cmap=\"YlGnBu\")\n",
    "plt.savefig(\"confusion_heatgraph.png\", dpi=600)"
   ]
  },
  {
   "cell_type": "code",
   "execution_count": 47,
   "metadata": {},
   "outputs": [],
   "source": [
    "from keras.utils import plot_model\n",
    "plot_model(model, to_file='model.svg', show_shapes=True)"
   ]
  },
  {
   "cell_type": "code",
   "execution_count": 54,
   "metadata": {},
   "outputs": [
    {
     "data": {
      "image/png": "[encoded data removed]",
      "text/plain": [
       "<Figure size 432x288 with 1 Axes>"
      ]
     },
     "metadata": {
      "needs_background": "light"
     },
     "output_type": "display_data"
    }
   ],
   "source": [
    "# 绘制训练 & 验证的准确率值\n",
    "plt.plot(history.history['acc'])\n",
    "plt.plot(history.history['val_acc'])\n",
    "plt.title('Model accuracy')\n",
    "plt.ylabel('Accuracy')\n",
    "plt.xlabel('Epoch')\n",
    "plt.legend(['Train', 'Cross_Val'], loc='upper left')\n",
    "plt.savefig(\"accuracy.png\", dpi=600)\n",
    "plt.show()"
   ]
  },
  {
   "cell_type": "code",
   "execution_count": 55,
   "metadata": {},
   "outputs": [
    {
     "data": {
      "image/png": "[encoded data removed]",
      "text/plain": [
       "<Figure size 432x288 with 1 Axes>"
      ]
     },
     "metadata": {
      "needs_background": "light"
     },
     "output_type": "display_data"
    }
   ],
   "source": [
    "# 绘制训练 & 验证的损失值\n",
    "plt.plot(history.history['loss'])\n",
    "plt.plot(history.history['val_loss'])\n",
    "plt.title('Model loss')\n",
    "plt.ylabel('Loss')\n",
    "plt.xlabel('Epoch')\n",
    "plt.legend(['Train', 'Cross_Val'], loc='upper left')\n",
    "plt.savefig(\"loss.png\", dpi=600)\n",
    "plt.show()"
   ]
  },
  {
   "cell_type": "code",
   "execution_count": null,
   "metadata": {},
   "outputs": [],
   "source": []
  }
 ],
 "metadata": {
  "kernelspec": {
   "display_name": "Python 3",
   "language": "python",
   "name": "python3"
  },
  "language_info": {
   "codemirror_mode": {
    "name": "ipython",
    "version": 3
   },
   "file_extension": ".py",
   "mimetype": "text/x-python",
   "name": "python",
   "nbconvert_exporter": "python",
   "pygments_lexer": "ipython3",
   "version": "3.7.1"
  }
 },
 "nbformat": 4,
 "nbformat_minor": 2
}
