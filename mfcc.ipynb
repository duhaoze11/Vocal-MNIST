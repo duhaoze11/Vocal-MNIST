{
 "cells": [
  {
   "cell_type": "code",
   "execution_count": 1,
   "metadata": {},
   "outputs": [
    {
     "name": "stdout",
     "output_type": "stream",
     "text": [
      "Limited tf.compat.v2.summary API due to missing TensorBoard installation\n"
     ]
    },
    {
     "name": "stderr",
     "output_type": "stream",
     "text": [
      "Using TensorFlow backend.\n"
     ]
    }
   ],
   "source": [
    "import tensorflow as tf\n",
    "import keras\n",
    "import numpy as np\n",
    "import pandas as pd\n",
    "from os import listdir\n",
    "from os.path import isfile, join\n",
    "import os\n",
    "import matplotlib.pyplot as plt\n",
    "import scipy.io.wavfile as wav\n",
    "from sklearn.model_selection import train_test_split\n",
    "from sklearn.preprocessing import OneHotEncoder\n",
    "from keras.models import Sequential\n",
    "from keras.layers import Dense, Activation, Dropout, Conv2D, Flatten, MaxPooling2D\n",
    "import librosa\n",
    "import seaborn as sns\n",
    "import sklearn.metrics\n",
    "import h5py"
   ]
  },
  {
   "cell_type": "code",
   "execution_count": 2,
   "metadata": {},
   "outputs": [
    {
     "ename": "FileNotFoundError",
     "evalue": "[Errno 2] No such file or directory: '/home/duh17/Desktop/free-spoken-digit-dataset/recordings/'",
     "output_type": "error",
     "traceback": [
      "\u001b[0;31m---------------------------------------------------------------------------\u001b[0m",
      "\u001b[0;31mFileNotFoundError\u001b[0m                         Traceback (most recent call last)",
      "\u001b[0;32m<ipython-input-2-8a5d5d221c25>\u001b[0m in \u001b[0;36m<module>\u001b[0;34m\u001b[0m\n\u001b[1;32m      1\u001b[0m \u001b[0mdir_path\u001b[0m \u001b[0;34m=\u001b[0m \u001b[0;34m'/home/duh17/Desktop/free-spoken-digit-dataset/recordings/'\u001b[0m\u001b[0;34m\u001b[0m\u001b[0;34m\u001b[0m\u001b[0m\n\u001b[0;32m----> 2\u001b[0;31m \u001b[0mfile_names\u001b[0m \u001b[0;34m=\u001b[0m \u001b[0;34m[\u001b[0m\u001b[0mf\u001b[0m \u001b[0;32mfor\u001b[0m \u001b[0mf\u001b[0m \u001b[0;32min\u001b[0m \u001b[0mlistdir\u001b[0m\u001b[0;34m(\u001b[0m\u001b[0mdir_path\u001b[0m\u001b[0;34m)\u001b[0m \u001b[0;32mif\u001b[0m \u001b[0misfile\u001b[0m\u001b[0;34m(\u001b[0m\u001b[0mjoin\u001b[0m\u001b[0;34m(\u001b[0m\u001b[0mdir_path\u001b[0m\u001b[0;34m,\u001b[0m \u001b[0mf\u001b[0m\u001b[0;34m)\u001b[0m\u001b[0;34m)\u001b[0m \u001b[0;32mand\u001b[0m \u001b[0;34m'.wav'\u001b[0m \u001b[0;32min\u001b[0m \u001b[0mf\u001b[0m\u001b[0;34m]\u001b[0m\u001b[0;34m\u001b[0m\u001b[0;34m\u001b[0m\u001b[0m\n\u001b[0m",
      "\u001b[0;31mFileNotFoundError\u001b[0m: [Errno 2] No such file or directory: '/home/duh17/Desktop/free-spoken-digit-dataset/recordings/'"
     ]
    }
   ],
   "source": [
    "dir_path = '/home/duh17/Desktop/free-spoken-digit-dataset/recordings/'\n",
    "file_names = [f for f in listdir(dir_path) if isfile(join(dir_path, f)) and '.wav' in f]"
   ]
  },
  {
   "cell_type": "code",
   "execution_count": 2,
   "metadata": {},
   "outputs": [],
   "source": [
    "def save_model(model) :\n",
    "    model.save('MFCC.h5')\n",
    "\n",
    "def load_model() :\n",
    "    model = keras.models.load_model('MFCC.h5')\n",
    "    return model\n",
    "\n",
    "def load_from_wav(dir_path, file_names):\n",
    "    lst = []\n",
    "    for file_name in file_names :\n",
    "    #     print(file_name)\n",
    "        sample, sample_rate = librosa.load(dir_path+file_name, sr=8000)\n",
    "        mfccs = librosa.feature.mfcc(y=sample, sr=sample_rate, n_mfcc=24)\n",
    "        lst.append([mfccs, file_name])\n",
    "    return lst\n",
    "\n",
    "# save and load data X, y\n",
    "def input2file(X, Y):\n",
    "    f = h5py.File('input.h5', 'w')\n",
    "    f['X'] = X\n",
    "    f['Y'] = Y\n",
    "    f.close()\n",
    "\n",
    "def file2input():\n",
    "    f = h5py.File('input.h5', 'r')\n",
    "    X = f['X'][:]\n",
    "    Y = f['Y'][:]\n",
    "    f.close()\n",
    "    return X, Y\n",
    "\n",
    "def truncateMFCC(inmfcc, maxlength) :\n",
    "    \"\"\"\n",
    "    :inmfcc : input mfcc and file name\n",
    "    :rtype: truncated mfcc\n",
    "    \"\"\"\n",
    "    outmfcc = inmfcc[0][:,:3]\n",
    "    return outmfcc"
   ]
  },
  {
   "cell_type": "code",
   "execution_count": null,
   "metadata": {},
   "outputs": [],
   "source": [
    "'''\n",
    "We have a pretrained model and input.\n",
    "This Block will re-read the wav files. \n",
    "You can use :\n",
    "X, Y = file2input()\n",
    "to get the input directly.\n",
    "''' \n",
    "# load wave from .wav file\n",
    "lst = load_from_wav(dir_path, file_names)\n",
    "temp = []\n",
    "# We have 2000 wave files in total\n",
    "for i in range(2000) :\n",
    "    temp.append(lst[i][0].shape[1])\n",
    "min_len_of_input = min(temp)\n",
    "# lst[4][0][:,:3]\n",
    "\n",
    "res = []\n",
    "N_samples = 2000\n",
    "\n",
    "for i in lst :\n",
    "#     print(i)\n",
    "    res.append([MFCC(i, min_len_of_input), i[1]])\n",
    "# res\n",
    "\n",
    "#use numpy.array to store X, Y for further process\n",
    "X = []\n",
    "Y = []\n",
    "for i in res :\n",
    "    X.append(i[0])\n",
    "    Y.append(int(i[1][0]))\n",
    "X = np.asarray(X)\n",
    "tempY = np.asarray(Y)\n",
    "# Create One-Hot encodings for Y\n",
    "lsttmp = []\n",
    "for i in tempY :\n",
    "    tmp = []\n",
    "    for numbers in range(10) :\n",
    "        if numbers == i :\n",
    "            num = 1\n",
    "        else :\n",
    "            num = 0\n",
    "        tmp.append(num)\n",
    "    lsttmp.append(tmp)\n",
    "Y = np.asarray(lsttmp)\n",
    "# resize X to meet the requirement of Layer Conv2D\n",
    "X.resize(2000,24,3,1)\n",
    "print(\"X: \" + X.shape)\n",
    "print(\"Y:\" + Y.shape)"
   ]
  },
  {
   "cell_type": "code",
   "execution_count": 3,
   "metadata": {},
   "outputs": [],
   "source": [
    "X, Y = file2input()"
   ]
  },
  {
   "cell_type": "code",
   "execution_count": 4,
   "metadata": {},
   "outputs": [],
   "source": [
    "# Train and test set splition\n",
    "X_train, X_test, y_train, y_test = train_test_split(X, Y, test_size=0.33, random_state=42)\n",
    "# X_train = X_train.reshape(1340, 8000, 1)"
   ]
  },
  {
   "cell_type": "code",
   "execution_count": 5,
   "metadata": {},
   "outputs": [
    {
     "name": "stderr",
     "output_type": "stream",
     "text": [
      "WARNING: Logging before flag parsing goes to stderr.\n",
      "W0308 01:42:00.316001 140523748828992 deprecation.py:506] From /usr/local/lib/python3.6/dist-packages/keras/backend/tensorflow_backend.py:3445: calling dropout (from tensorflow.python.ops.nn_ops) with keep_prob is deprecated and will be removed in a future version.\n",
      "Instructions for updating:\n",
      "Please use `rate` instead of `keep_prob`. Rate should be set to `rate = 1 - keep_prob`.\n"
     ]
    }
   ],
   "source": [
    "\"\"\"\n",
    "We have trained a model and you can use load_model() and ignore morel.compile and model.fit to reload it if you just want to check the result.\n",
    "model = load_model()\n",
    "\"\"\"\n",
    "\n",
    "# Keras layers settings\n",
    "model = Sequential()\n",
    "# model.add(Conv1D(filters=1, kernel_size=10, activation='relu', input_shape=(8000,)))\n",
    "model.add(Conv2D(32,(2,2),     \n",
    "                  input_shape=X_train.shape[1:],      \n",
    "                  activation= 'relu',\n",
    "                  padding='same')) \n",
    "# model.add(Dense(8000, activation='relu'))\n",
    "#model.add(Conv2D(32, (2,2), padding='valid'))\n",
    "model.add(MaxPooling2D(2,2))\n",
    "model.add(Dropout(0.25))\n",
    "model.add(Flatten())\n",
    "model.add(Dense(128, activation='relu'))\n",
    "model.add(Dense(64, activation='relu'))\n",
    "model.add(Dense(32, activation='relu'))\n",
    "model.add(Dense(10, activation='softmax'))"
   ]
  },
  {
   "cell_type": "code",
   "execution_count": 6,
   "metadata": {},
   "outputs": [],
   "source": [
    "# Keras training loss and optimization settings\n",
    "model.compile(loss=keras.losses.categorical_crossentropy,\n",
    "              optimizer=keras.optimizers.Adadelta(),\n",
    "              metrics=['accuracy'])"
   ]
  },
  {
   "cell_type": "code",
   "execution_count": 7,
   "metadata": {},
   "outputs": [
    {
     "name": "stdout",
     "output_type": "stream",
     "text": [
      "Train on 1072 samples, validate on 268 samples\n",
      "Epoch 1/100\n",
      "1072/1072 [==============================] - 3s 3ms/step - loss: 3.9702 - acc: 0.2099 - val_loss: 1.9289 - val_acc: 0.3358\n",
      "Epoch 2/100\n",
      "1072/1072 [==============================] - 0s 117us/step - loss: 1.9829 - acc: 0.3517 - val_loss: 1.6983 - val_acc: 0.3582\n",
      "Epoch 3/100\n",
      "1072/1072 [==============================] - 0s 105us/step - loss: 1.6387 - acc: 0.4552 - val_loss: 1.2254 - val_acc: 0.5709\n",
      "Epoch 4/100\n",
      "1072/1072 [==============================] - 0s 115us/step - loss: 1.3006 - acc: 0.5606 - val_loss: 0.8979 - val_acc: 0.6866\n",
      "Epoch 5/100\n",
      "1072/1072 [==============================] - 0s 107us/step - loss: 1.0778 - acc: 0.6185 - val_loss: 1.0120 - val_acc: 0.5821\n",
      "Epoch 6/100\n",
      "1072/1072 [==============================] - 0s 106us/step - loss: 0.8846 - acc: 0.6810 - val_loss: 1.7241 - val_acc: 0.4627\n",
      "Epoch 7/100\n",
      "1072/1072 [==============================] - 0s 111us/step - loss: 0.8278 - acc: 0.7108 - val_loss: 0.6092 - val_acc: 0.7799\n",
      "Epoch 8/100\n",
      "1072/1072 [==============================] - 0s 118us/step - loss: 0.6966 - acc: 0.7565 - val_loss: 0.5648 - val_acc: 0.7910\n",
      "Epoch 9/100\n",
      "1072/1072 [==============================] - 0s 113us/step - loss: 0.5918 - acc: 0.7780 - val_loss: 0.5030 - val_acc: 0.8433\n",
      "Epoch 10/100\n",
      "1072/1072 [==============================] - 0s 104us/step - loss: 0.6300 - acc: 0.7799 - val_loss: 0.4061 - val_acc: 0.8694\n",
      "Epoch 11/100\n",
      "1072/1072 [==============================] - 0s 114us/step - loss: 0.5125 - acc: 0.8153 - val_loss: 0.4840 - val_acc: 0.8545\n",
      "Epoch 12/100\n",
      "1072/1072 [==============================] - 0s 114us/step - loss: 0.5015 - acc: 0.8116 - val_loss: 0.3846 - val_acc: 0.8657\n",
      "Epoch 13/100\n",
      "1072/1072 [==============================] - 0s 110us/step - loss: 0.4694 - acc: 0.8479 - val_loss: 0.4118 - val_acc: 0.8881\n",
      "Epoch 14/100\n",
      "1072/1072 [==============================] - 0s 143us/step - loss: 0.4416 - acc: 0.8517 - val_loss: 0.4947 - val_acc: 0.8321\n",
      "Epoch 15/100\n",
      "1072/1072 [==============================] - 0s 144us/step - loss: 0.4389 - acc: 0.8330 - val_loss: 0.3731 - val_acc: 0.8993\n",
      "Epoch 16/100\n",
      "1072/1072 [==============================] - 0s 127us/step - loss: 0.4095 - acc: 0.8666 - val_loss: 0.3397 - val_acc: 0.9030\n",
      "Epoch 17/100\n",
      "1072/1072 [==============================] - 0s 105us/step - loss: 0.3545 - acc: 0.8713 - val_loss: 0.4860 - val_acc: 0.8470\n",
      "Epoch 18/100\n",
      "1072/1072 [==============================] - 0s 116us/step - loss: 0.3084 - acc: 0.8890 - val_loss: 0.3594 - val_acc: 0.8918\n",
      "Epoch 19/100\n",
      "1072/1072 [==============================] - 0s 104us/step - loss: 0.3341 - acc: 0.8871 - val_loss: 0.4491 - val_acc: 0.8545\n",
      "Epoch 20/100\n",
      "1072/1072 [==============================] - 0s 130us/step - loss: 0.3476 - acc: 0.8741 - val_loss: 0.3977 - val_acc: 0.8657\n",
      "Epoch 21/100\n",
      "1072/1072 [==============================] - 0s 150us/step - loss: 0.2988 - acc: 0.9086 - val_loss: 0.3204 - val_acc: 0.9142\n",
      "Epoch 22/100\n",
      "1072/1072 [==============================] - 0s 128us/step - loss: 0.2396 - acc: 0.9123 - val_loss: 0.2996 - val_acc: 0.9142\n",
      "Epoch 23/100\n",
      "1072/1072 [==============================] - 0s 141us/step - loss: 0.3131 - acc: 0.8834 - val_loss: 0.2718 - val_acc: 0.9366\n",
      "Epoch 24/100\n",
      "1072/1072 [==============================] - 0s 147us/step - loss: 0.2539 - acc: 0.9086 - val_loss: 0.2844 - val_acc: 0.8993\n",
      "Epoch 25/100\n",
      "1072/1072 [==============================] - 0s 131us/step - loss: 0.2704 - acc: 0.9095 - val_loss: 0.2824 - val_acc: 0.9067\n",
      "Epoch 26/100\n",
      "1072/1072 [==============================] - 0s 153us/step - loss: 0.2613 - acc: 0.9123 - val_loss: 0.3309 - val_acc: 0.8881\n",
      "Epoch 27/100\n",
      "1072/1072 [==============================] - 0s 142us/step - loss: 0.2589 - acc: 0.9067 - val_loss: 0.4481 - val_acc: 0.8769\n",
      "Epoch 28/100\n",
      "1072/1072 [==============================] - 0s 149us/step - loss: 0.2171 - acc: 0.9282 - val_loss: 0.2547 - val_acc: 0.9254\n",
      "Epoch 29/100\n",
      "1072/1072 [==============================] - 0s 116us/step - loss: 0.2026 - acc: 0.9272 - val_loss: 0.4002 - val_acc: 0.8843\n",
      "Epoch 30/100\n",
      "1072/1072 [==============================] - 0s 110us/step - loss: 0.2247 - acc: 0.9226 - val_loss: 0.2383 - val_acc: 0.9328\n",
      "Epoch 31/100\n",
      "1072/1072 [==============================] - 0s 103us/step - loss: 0.1894 - acc: 0.9356 - val_loss: 0.2607 - val_acc: 0.9403\n",
      "Epoch 32/100\n",
      "1072/1072 [==============================] - 0s 121us/step - loss: 0.1957 - acc: 0.9356 - val_loss: 0.2424 - val_acc: 0.9440\n",
      "Epoch 33/100\n",
      "1072/1072 [==============================] - 0s 127us/step - loss: 0.1741 - acc: 0.9384 - val_loss: 0.3194 - val_acc: 0.9030\n",
      "Epoch 34/100\n",
      "1072/1072 [==============================] - 0s 159us/step - loss: 0.1930 - acc: 0.9300 - val_loss: 0.2878 - val_acc: 0.9142\n",
      "Epoch 35/100\n",
      "1072/1072 [==============================] - 0s 121us/step - loss: 0.1782 - acc: 0.9478 - val_loss: 0.2714 - val_acc: 0.9328\n",
      "Epoch 36/100\n",
      "1072/1072 [==============================] - 0s 114us/step - loss: 0.1789 - acc: 0.9412 - val_loss: 0.3208 - val_acc: 0.9179\n",
      "Epoch 37/100\n",
      "1072/1072 [==============================] - 0s 102us/step - loss: 0.1599 - acc: 0.9440 - val_loss: 0.3265 - val_acc: 0.9254\n",
      "Epoch 38/100\n",
      "1072/1072 [==============================] - 0s 108us/step - loss: 0.1433 - acc: 0.9515 - val_loss: 0.2336 - val_acc: 0.9403\n",
      "Epoch 39/100\n",
      "1072/1072 [==============================] - 0s 110us/step - loss: 0.1688 - acc: 0.9431 - val_loss: 0.2477 - val_acc: 0.9328\n",
      "Epoch 40/100\n",
      "1072/1072 [==============================] - 0s 101us/step - loss: 0.1573 - acc: 0.9478 - val_loss: 0.3351 - val_acc: 0.9104\n",
      "Epoch 41/100\n",
      "1072/1072 [==============================] - 0s 111us/step - loss: 0.1536 - acc: 0.9571 - val_loss: 0.2434 - val_acc: 0.9403\n",
      "Epoch 42/100\n",
      "1072/1072 [==============================] - 0s 120us/step - loss: 0.1123 - acc: 0.9627 - val_loss: 0.2272 - val_acc: 0.9515\n",
      "Epoch 43/100\n",
      "1072/1072 [==============================] - 0s 172us/step - loss: 0.1219 - acc: 0.9627 - val_loss: 0.2638 - val_acc: 0.9403\n",
      "Epoch 44/100\n",
      "1072/1072 [==============================] - 0s 100us/step - loss: 0.1274 - acc: 0.9515 - val_loss: 0.3044 - val_acc: 0.9291\n",
      "Epoch 45/100\n",
      "1072/1072 [==============================] - 0s 98us/step - loss: 0.1425 - acc: 0.9468 - val_loss: 0.3358 - val_acc: 0.9328\n",
      "Epoch 46/100\n",
      "1072/1072 [==============================] - 0s 126us/step - loss: 0.1308 - acc: 0.9478 - val_loss: 0.3115 - val_acc: 0.9179\n",
      "Epoch 47/100\n",
      "1072/1072 [==============================] - 0s 110us/step - loss: 0.1282 - acc: 0.9571 - val_loss: 0.2734 - val_acc: 0.9291\n",
      "Epoch 48/100\n",
      "1072/1072 [==============================] - 0s 118us/step - loss: 0.1465 - acc: 0.9496 - val_loss: 0.2589 - val_acc: 0.9403\n",
      "Epoch 49/100\n",
      "1072/1072 [==============================] - 0s 144us/step - loss: 0.1383 - acc: 0.9552 - val_loss: 0.2789 - val_acc: 0.9403\n",
      "Epoch 50/100\n",
      "1072/1072 [==============================] - 0s 156us/step - loss: 0.1285 - acc: 0.9580 - val_loss: 0.2485 - val_acc: 0.9440\n",
      "Epoch 51/100\n",
      "1072/1072 [==============================] - 0s 135us/step - loss: 0.1189 - acc: 0.9552 - val_loss: 0.2699 - val_acc: 0.9291\n",
      "Epoch 52/100\n",
      "1072/1072 [==============================] - 0s 158us/step - loss: 0.1112 - acc: 0.9608 - val_loss: 0.2448 - val_acc: 0.9515\n",
      "Epoch 53/100\n",
      "1072/1072 [==============================] - 0s 132us/step - loss: 0.1130 - acc: 0.9571 - val_loss: 0.2624 - val_acc: 0.9366\n",
      "Epoch 54/100\n",
      "1072/1072 [==============================] - 0s 103us/step - loss: 0.1193 - acc: 0.9543 - val_loss: 0.2381 - val_acc: 0.9440\n",
      "Epoch 55/100\n",
      "1072/1072 [==============================] - 0s 118us/step - loss: 0.1289 - acc: 0.9552 - val_loss: 0.2013 - val_acc: 0.9627\n",
      "Epoch 56/100\n",
      "1072/1072 [==============================] - 0s 110us/step - loss: 0.1057 - acc: 0.9636 - val_loss: 0.2087 - val_acc: 0.9478\n",
      "Epoch 57/100\n",
      "1072/1072 [==============================] - 0s 113us/step - loss: 0.1101 - acc: 0.9580 - val_loss: 0.2007 - val_acc: 0.9552\n",
      "Epoch 58/100\n",
      "1072/1072 [==============================] - 0s 112us/step - loss: 0.0854 - acc: 0.9711 - val_loss: 0.2667 - val_acc: 0.9440\n",
      "Epoch 59/100\n",
      "1072/1072 [==============================] - 0s 106us/step - loss: 0.0892 - acc: 0.9720 - val_loss: 0.2553 - val_acc: 0.9478\n",
      "Epoch 60/100\n"
     ]
    },
    {
     "name": "stdout",
     "output_type": "stream",
     "text": [
      "1072/1072 [==============================] - 0s 112us/step - loss: 0.0952 - acc: 0.9655 - val_loss: 0.2121 - val_acc: 0.9478\n",
      "Epoch 61/100\n",
      "1072/1072 [==============================] - 0s 115us/step - loss: 0.1175 - acc: 0.9618 - val_loss: 0.2253 - val_acc: 0.9440\n",
      "Epoch 62/100\n",
      "1072/1072 [==============================] - 0s 186us/step - loss: 0.0808 - acc: 0.9720 - val_loss: 0.3176 - val_acc: 0.9328\n",
      "Epoch 63/100\n",
      "1072/1072 [==============================] - 0s 111us/step - loss: 0.0882 - acc: 0.9701 - val_loss: 0.2420 - val_acc: 0.9552\n",
      "Epoch 64/100\n",
      "1072/1072 [==============================] - 0s 130us/step - loss: 0.0694 - acc: 0.9757 - val_loss: 0.2197 - val_acc: 0.9478\n",
      "Epoch 65/100\n",
      "1072/1072 [==============================] - 0s 161us/step - loss: 0.0910 - acc: 0.9711 - val_loss: 0.2257 - val_acc: 0.9478\n",
      "Epoch 66/100\n",
      "1072/1072 [==============================] - 0s 108us/step - loss: 0.0933 - acc: 0.9692 - val_loss: 0.2374 - val_acc: 0.9552\n",
      "Epoch 67/100\n",
      "1072/1072 [==============================] - 0s 103us/step - loss: 0.0760 - acc: 0.9711 - val_loss: 0.2294 - val_acc: 0.9590\n",
      "Epoch 68/100\n",
      "1072/1072 [==============================] - 0s 123us/step - loss: 0.0962 - acc: 0.9664 - val_loss: 0.2793 - val_acc: 0.9440\n",
      "Epoch 69/100\n",
      "1072/1072 [==============================] - 0s 136us/step - loss: 0.0980 - acc: 0.9664 - val_loss: 0.1977 - val_acc: 0.9590\n",
      "Epoch 70/100\n",
      "1072/1072 [==============================] - 0s 120us/step - loss: 0.0581 - acc: 0.9832 - val_loss: 0.1915 - val_acc: 0.9627\n",
      "Epoch 71/100\n",
      "1072/1072 [==============================] - 0s 101us/step - loss: 0.0686 - acc: 0.9739 - val_loss: 0.2649 - val_acc: 0.9366\n",
      "Epoch 72/100\n",
      "1072/1072 [==============================] - 0s 103us/step - loss: 0.0802 - acc: 0.9701 - val_loss: 0.2261 - val_acc: 0.9552\n",
      "Epoch 73/100\n",
      "1072/1072 [==============================] - 0s 110us/step - loss: 0.0638 - acc: 0.9795 - val_loss: 0.2403 - val_acc: 0.9552\n",
      "Epoch 74/100\n",
      "1072/1072 [==============================] - 0s 107us/step - loss: 0.0632 - acc: 0.9757 - val_loss: 0.2380 - val_acc: 0.9627\n",
      "Epoch 75/100\n",
      "1072/1072 [==============================] - 0s 103us/step - loss: 0.0658 - acc: 0.9795 - val_loss: 0.2083 - val_acc: 0.9552\n",
      "Epoch 76/100\n",
      "1072/1072 [==============================] - 0s 99us/step - loss: 0.0876 - acc: 0.9701 - val_loss: 0.3559 - val_acc: 0.9366\n",
      "Epoch 77/100\n",
      "1072/1072 [==============================] - 0s 116us/step - loss: 0.0835 - acc: 0.9757 - val_loss: 0.2670 - val_acc: 0.9328\n",
      "Epoch 78/100\n",
      "1072/1072 [==============================] - 0s 101us/step - loss: 0.0822 - acc: 0.9720 - val_loss: 0.2095 - val_acc: 0.9552\n",
      "Epoch 79/100\n",
      "1072/1072 [==============================] - 0s 107us/step - loss: 0.0720 - acc: 0.9729 - val_loss: 0.2709 - val_acc: 0.9440\n",
      "Epoch 80/100\n",
      "1072/1072 [==============================] - 0s 102us/step - loss: 0.0806 - acc: 0.9748 - val_loss: 0.2471 - val_acc: 0.9515\n",
      "Epoch 81/100\n",
      "1072/1072 [==============================] - 0s 112us/step - loss: 0.0569 - acc: 0.9823 - val_loss: 0.2470 - val_acc: 0.9552\n",
      "Epoch 82/100\n",
      "1072/1072 [==============================] - 0s 141us/step - loss: 0.0443 - acc: 0.9860 - val_loss: 0.2325 - val_acc: 0.9627\n",
      "Epoch 83/100\n",
      "1072/1072 [==============================] - 0s 151us/step - loss: 0.0512 - acc: 0.9851 - val_loss: 0.2472 - val_acc: 0.9664\n",
      "Epoch 84/100\n",
      "1072/1072 [==============================] - 0s 144us/step - loss: 0.0618 - acc: 0.9841 - val_loss: 0.2545 - val_acc: 0.9590\n",
      "Epoch 85/100\n",
      "1072/1072 [==============================] - 0s 116us/step - loss: 0.0575 - acc: 0.9813 - val_loss: 0.2418 - val_acc: 0.9627\n",
      "Epoch 86/100\n",
      "1072/1072 [==============================] - 0s 118us/step - loss: 0.0456 - acc: 0.9804 - val_loss: 0.2723 - val_acc: 0.9590\n",
      "Epoch 87/100\n",
      "1072/1072 [==============================] - 0s 135us/step - loss: 0.0334 - acc: 0.9888 - val_loss: 0.2472 - val_acc: 0.9590\n",
      "Epoch 88/100\n",
      "1072/1072 [==============================] - 0s 115us/step - loss: 0.0576 - acc: 0.9804 - val_loss: 0.2300 - val_acc: 0.9664\n",
      "Epoch 89/100\n",
      "1072/1072 [==============================] - 0s 119us/step - loss: 0.0415 - acc: 0.9879 - val_loss: 0.3042 - val_acc: 0.9440\n",
      "Epoch 90/100\n",
      "1072/1072 [==============================] - 0s 126us/step - loss: 0.0592 - acc: 0.9757 - val_loss: 0.2588 - val_acc: 0.9515\n",
      "Epoch 91/100\n",
      "1072/1072 [==============================] - 0s 112us/step - loss: 0.0446 - acc: 0.9841 - val_loss: 0.2085 - val_acc: 0.9664\n",
      "Epoch 92/100\n",
      "1072/1072 [==============================] - 0s 149us/step - loss: 0.0448 - acc: 0.9813 - val_loss: 0.2360 - val_acc: 0.9590\n",
      "Epoch 93/100\n",
      "1072/1072 [==============================] - 0s 151us/step - loss: 0.0390 - acc: 0.9879 - val_loss: 0.2279 - val_acc: 0.9664\n",
      "Epoch 94/100\n",
      "1072/1072 [==============================] - 0s 114us/step - loss: 0.0403 - acc: 0.9851 - val_loss: 0.2824 - val_acc: 0.9552\n",
      "Epoch 95/100\n",
      "1072/1072 [==============================] - 0s 122us/step - loss: 0.0393 - acc: 0.9841 - val_loss: 0.2666 - val_acc: 0.9552\n",
      "Epoch 96/100\n",
      "1072/1072 [==============================] - 0s 123us/step - loss: 0.0519 - acc: 0.9823 - val_loss: 0.2615 - val_acc: 0.9552\n",
      "Epoch 97/100\n",
      "1072/1072 [==============================] - 0s 113us/step - loss: 0.0421 - acc: 0.9869 - val_loss: 0.2661 - val_acc: 0.9478\n",
      "Epoch 98/100\n",
      "1072/1072 [==============================] - 0s 120us/step - loss: 0.0342 - acc: 0.9888 - val_loss: 0.2775 - val_acc: 0.9590\n",
      "Epoch 99/100\n",
      "1072/1072 [==============================] - 0s 129us/step - loss: 0.0526 - acc: 0.9795 - val_loss: 0.2716 - val_acc: 0.9552\n",
      "Epoch 100/100\n",
      "1072/1072 [==============================] - 0s 143us/step - loss: 0.0405 - acc: 0.9851 - val_loss: 0.3288 - val_acc: 0.9440\n"
     ]
    }
   ],
   "source": [
    "# Model fit\n",
    "history = model.fit(X_train,y_train, epochs=100, validation_split=0.2)"
   ]
  },
  {
   "cell_type": "code",
   "execution_count": 8,
   "metadata": {
    "scrolled": true
   },
   "outputs": [],
   "source": [
    "save_model(model)"
   ]
  },
  {
   "cell_type": "code",
   "execution_count": 9,
   "metadata": {},
   "outputs": [
    {
     "name": "stdout",
     "output_type": "stream",
     "text": [
      "660/660 [==============================] - 0s 45us/step\n"
     ]
    },
    {
     "data": {
      "text/plain": [
       "[0.1258857145256391, 0.95]"
      ]
     },
     "execution_count": 9,
     "metadata": {},
     "output_type": "execute_result"
    }
   ],
   "source": [
    "# Model evaluation\n",
    "y_pred = model.predict(X_test)\n",
    "model.evaluate(X_test, y_test)"
   ]
  },
  {
   "cell_type": "code",
   "execution_count": 10,
   "metadata": {},
   "outputs": [
    {
     "data": {
      "image/png": "[encoded data removed]",
      "text/plain": [
       "<Figure size 432x288 with 2 Axes>"
      ]
     },
     "metadata": {
      "needs_background": "light"
     },
     "output_type": "display_data"
    }
   ],
   "source": [
    "# Confusion Matrix\n",
    "matrix = sklearn.metrics.confusion_matrix(y_test.argmax(axis=1), y_pred.argmax(axis=1))\n",
    "sns.heatmap(matrix, annot=True, fmt=\"d\", linewidths=.5, cmap=\"YlGnBu\")\n",
    "plt.savefig(\"confusion_heatgraph.png\", dpi=600)"
   ]
  },
  {
   "cell_type": "code",
   "execution_count": 11,
   "metadata": {},
   "outputs": [
    {
     "ename": "ImportError",
     "evalue": "Failed to import `pydot`. Please install `pydot`. For example with `pip install pydot`.",
     "output_type": "error",
     "traceback": [
      "\u001b[0;31m---------------------------------------------------------------------------\u001b[0m",
      "\u001b[0;31mImportError\u001b[0m                               Traceback (most recent call last)",
      "\u001b[0;32m<ipython-input-11-998aad69db3f>\u001b[0m in \u001b[0;36m<module>\u001b[0;34m\u001b[0m\n\u001b[1;32m      1\u001b[0m \u001b[0;31m# Model Graph\u001b[0m\u001b[0;34m\u001b[0m\u001b[0;34m\u001b[0m\u001b[0;34m\u001b[0m\u001b[0m\n\u001b[1;32m      2\u001b[0m \u001b[0;32mfrom\u001b[0m \u001b[0mkeras\u001b[0m\u001b[0;34m.\u001b[0m\u001b[0mutils\u001b[0m \u001b[0;32mimport\u001b[0m \u001b[0mplot_model\u001b[0m\u001b[0;34m\u001b[0m\u001b[0;34m\u001b[0m\u001b[0m\n\u001b[0;32m----> 3\u001b[0;31m \u001b[0mplot_model\u001b[0m\u001b[0;34m(\u001b[0m\u001b[0mmodel\u001b[0m\u001b[0;34m,\u001b[0m \u001b[0mto_file\u001b[0m\u001b[0;34m=\u001b[0m\u001b[0;34m'model.svg'\u001b[0m\u001b[0;34m,\u001b[0m \u001b[0mshow_shapes\u001b[0m\u001b[0;34m=\u001b[0m\u001b[0;32mTrue\u001b[0m\u001b[0;34m)\u001b[0m\u001b[0;34m\u001b[0m\u001b[0;34m\u001b[0m\u001b[0m\n\u001b[0m",
      "\u001b[0;32m/usr/local/lib/python3.6/dist-packages/keras/utils/vis_utils.py\u001b[0m in \u001b[0;36mplot_model\u001b[0;34m(model, to_file, show_shapes, show_layer_names, rankdir)\u001b[0m\n\u001b[1;32m    130\u001b[0m             \u001b[0;34m'LR'\u001b[0m \u001b[0mcreates\u001b[0m \u001b[0ma\u001b[0m \u001b[0mhorizontal\u001b[0m \u001b[0mplot\u001b[0m\u001b[0;34m.\u001b[0m\u001b[0;34m\u001b[0m\u001b[0;34m\u001b[0m\u001b[0m\n\u001b[1;32m    131\u001b[0m     \"\"\"\n\u001b[0;32m--> 132\u001b[0;31m     \u001b[0mdot\u001b[0m \u001b[0;34m=\u001b[0m \u001b[0mmodel_to_dot\u001b[0m\u001b[0;34m(\u001b[0m\u001b[0mmodel\u001b[0m\u001b[0;34m,\u001b[0m \u001b[0mshow_shapes\u001b[0m\u001b[0;34m,\u001b[0m \u001b[0mshow_layer_names\u001b[0m\u001b[0;34m,\u001b[0m \u001b[0mrankdir\u001b[0m\u001b[0;34m)\u001b[0m\u001b[0;34m\u001b[0m\u001b[0;34m\u001b[0m\u001b[0m\n\u001b[0m\u001b[1;32m    133\u001b[0m     \u001b[0m_\u001b[0m\u001b[0;34m,\u001b[0m \u001b[0mextension\u001b[0m \u001b[0;34m=\u001b[0m \u001b[0mos\u001b[0m\u001b[0;34m.\u001b[0m\u001b[0mpath\u001b[0m\u001b[0;34m.\u001b[0m\u001b[0msplitext\u001b[0m\u001b[0;34m(\u001b[0m\u001b[0mto_file\u001b[0m\u001b[0;34m)\u001b[0m\u001b[0;34m\u001b[0m\u001b[0;34m\u001b[0m\u001b[0m\n\u001b[1;32m    134\u001b[0m     \u001b[0;32mif\u001b[0m \u001b[0;32mnot\u001b[0m \u001b[0mextension\u001b[0m\u001b[0;34m:\u001b[0m\u001b[0;34m\u001b[0m\u001b[0;34m\u001b[0m\u001b[0m\n",
      "\u001b[0;32m/usr/local/lib/python3.6/dist-packages/keras/utils/vis_utils.py\u001b[0m in \u001b[0;36mmodel_to_dot\u001b[0;34m(model, show_shapes, show_layer_names, rankdir)\u001b[0m\n\u001b[1;32m     53\u001b[0m     \u001b[0;32mfrom\u001b[0m \u001b[0;34m.\u001b[0m\u001b[0;34m.\u001b[0m\u001b[0mmodels\u001b[0m \u001b[0;32mimport\u001b[0m \u001b[0mSequential\u001b[0m\u001b[0;34m\u001b[0m\u001b[0;34m\u001b[0m\u001b[0m\n\u001b[1;32m     54\u001b[0m \u001b[0;34m\u001b[0m\u001b[0m\n\u001b[0;32m---> 55\u001b[0;31m     \u001b[0m_check_pydot\u001b[0m\u001b[0;34m(\u001b[0m\u001b[0;34m)\u001b[0m\u001b[0;34m\u001b[0m\u001b[0;34m\u001b[0m\u001b[0m\n\u001b[0m\u001b[1;32m     56\u001b[0m     \u001b[0mdot\u001b[0m \u001b[0;34m=\u001b[0m \u001b[0mpydot\u001b[0m\u001b[0;34m.\u001b[0m\u001b[0mDot\u001b[0m\u001b[0;34m(\u001b[0m\u001b[0;34m)\u001b[0m\u001b[0;34m\u001b[0m\u001b[0;34m\u001b[0m\u001b[0m\n\u001b[1;32m     57\u001b[0m     \u001b[0mdot\u001b[0m\u001b[0;34m.\u001b[0m\u001b[0mset\u001b[0m\u001b[0;34m(\u001b[0m\u001b[0;34m'rankdir'\u001b[0m\u001b[0;34m,\u001b[0m \u001b[0mrankdir\u001b[0m\u001b[0;34m)\u001b[0m\u001b[0;34m\u001b[0m\u001b[0;34m\u001b[0m\u001b[0m\n",
      "\u001b[0;32m/usr/local/lib/python3.6/dist-packages/keras/utils/vis_utils.py\u001b[0m in \u001b[0;36m_check_pydot\u001b[0;34m()\u001b[0m\n\u001b[1;32m     18\u001b[0m     \u001b[0;32mif\u001b[0m \u001b[0mpydot\u001b[0m \u001b[0;32mis\u001b[0m \u001b[0;32mNone\u001b[0m\u001b[0;34m:\u001b[0m\u001b[0;34m\u001b[0m\u001b[0;34m\u001b[0m\u001b[0m\n\u001b[1;32m     19\u001b[0m         raise ImportError(\n\u001b[0;32m---> 20\u001b[0;31m             \u001b[0;34m'Failed to import `pydot`. '\u001b[0m\u001b[0;34m\u001b[0m\u001b[0;34m\u001b[0m\u001b[0m\n\u001b[0m\u001b[1;32m     21\u001b[0m             \u001b[0;34m'Please install `pydot`. '\u001b[0m\u001b[0;34m\u001b[0m\u001b[0;34m\u001b[0m\u001b[0m\n\u001b[1;32m     22\u001b[0m             'For example with `pip install pydot`.')\n",
      "\u001b[0;31mImportError\u001b[0m: Failed to import `pydot`. Please install `pydot`. For example with `pip install pydot`."
     ]
    }
   ],
   "source": [
    "# Model Graph\n",
    "from keras.utils import plot_model\n",
    "plot_model(model, to_file='model.svg', show_shapes=True)"
   ]
  },
  {
   "cell_type": "code",
   "execution_count": 12,
   "metadata": {},
   "outputs": [
    {
     "data": {
      "image/png": "[encoded data removed]",
      "text/plain": [
       "<Figure size 432x288 with 1 Axes>"
      ]
     },
     "metadata": {
      "needs_background": "light"
     },
     "output_type": "display_data"
    }
   ],
   "source": [
    "# accu plot\n",
    "plt.plot(history.history['acc'])\n",
    "plt.plot(history.history['val_acc'])\n",
    "plt.title('Model accuracy')\n",
    "plt.ylabel('Accuracy')\n",
    "plt.xlabel('Epoch')\n",
    "plt.legend(['Train', 'Cross_Val'], loc='upper left')\n",
    "plt.savefig(\"accuracy.png\", dpi=600)\n",
    "plt.show()"
   ]
  },
  {
   "cell_type": "code",
   "execution_count": 13,
   "metadata": {},
   "outputs": [
    {
     "data": {
      "image/png": "[encoded data removed]",
      "text/plain": [
       "<Figure size 432x288 with 1 Axes>"
      ]
     },
     "metadata": {
      "needs_background": "light"
     },
     "output_type": "display_data"
    }
   ],
   "source": [
    "# loss plot\n",
    "plt.plot(history.history['loss'])\n",
    "plt.plot(history.history['val_loss'])\n",
    "plt.title('Model loss')\n",
    "plt.ylabel('Loss')\n",
    "plt.xlabel('Epoch')\n",
    "plt.legend(['Train', 'Cross_Val'], loc='upper left')\n",
    "plt.savefig(\"loss.png\", dpi=600)\n",
    "plt.show()"
   ]
  },
  {
   "cell_type": "code",
   "execution_count": 32,
   "metadata": {},
   "outputs": [],
   "source": [
    "fpr = dict()\n",
    "tpr = dict()\n",
    "roc_auc = dict()\n",
    "for i in range(10):\n",
    "    fpr[i], tpr[i], _ = sklearn.metrics.roc_curve(y_test[:, i], y_pred[:, i])\n",
    "    roc_auc[i] = sklearn.metrics.auc(fpr[i], tpr[i])\n",
    "# roc_auc = sklearn.metrics.auc(fpr, tpr)\n",
    "fpr[\"micro\"], tpr[\"micro\"], _ = sklearn.metrics.roc_curve(y_test.ravel(), y_pred.ravel())\n",
    "roc_auc[\"micro\"] = sklearn.metrics.auc(fpr[\"micro\"], tpr[\"micro\"])"
   ]
  },
  {
   "cell_type": "code",
   "execution_count": 42,
   "metadata": {},
   "outputs": [
    {
     "data": {
      "image/png": "[encoded data removed]",
      "text/plain": [
       "<Figure size 432x288 with 1 Axes>"
      ]
     },
     "metadata": {
      "needs_background": "light"
     },
     "output_type": "display_data"
    }
   ],
   "source": [
    "from scipy import interp\n",
    "from sklearn.metrics import auc\n",
    "from itertools import cycle\n",
    "# Compute macro-average ROC curve and ROC area\n",
    "\n",
    "# First aggregate all false positive rates\n",
    "all_fpr = np.unique(np.concatenate([fpr[i] for i in range(10)]))\n",
    "\n",
    "# Then interpolate all ROC curves at this points\n",
    "mean_tpr = np.zeros_like(all_fpr)\n",
    "for i in range(10):\n",
    "    mean_tpr += interp(all_fpr, fpr[i], tpr[i])\n",
    "\n",
    "# Finally average it and compute AUC\n",
    "mean_tpr /= 10\n",
    "\n",
    "fpr[\"macro\"] = all_fpr\n",
    "tpr[\"macro\"] = mean_tpr\n",
    "roc_auc[\"macro\"] = auc(fpr[\"macro\"], tpr[\"macro\"])\n",
    "\n",
    "# Plot all ROC curves\n",
    "plt.figure()\n",
    "plt.plot(fpr[\"micro\"], tpr[\"micro\"],\n",
    "         label='micro-average ROC curve (area = {0:0.2f})'\n",
    "               ''.format(roc_auc[\"micro\"]),\n",
    "         color='deeppink', linestyle=':', linewidth=4)\n",
    "\n",
    "plt.plot(fpr[\"macro\"], tpr[\"macro\"],\n",
    "         label='macro-average ROC curve (area = {0:0.2f})'\n",
    "               ''.format(roc_auc[\"macro\"]),\n",
    "         color='navy', linestyle=':', linewidth=4)\n",
    "\n",
    "colors = cycle(['aqua', 'darkorange', 'cornflowerblue', 'green', 'purple', 'pink', 'red', 'orange', 'blue', 'black'])\n",
    "for i, color in zip(range(10), colors):\n",
    "    plt.plot(fpr[i], tpr[i], color=color, lw=lw,\n",
    "             label='ROC curve of class {0} (area = {1:0.2f})'\n",
    "             ''.format(i, roc_auc[i]))\n",
    "\n",
    "plt.plot([0, 1], [0, 1], 'k--', lw=lw)\n",
    "plt.xlim([0.0, 1.0])\n",
    "plt.ylim([0.0, 1.05])\n",
    "plt.xlabel('False Positive Rate')\n",
    "plt.ylabel('True Positive Rate')\n",
    "plt.title('Some extension of Receiver operating characteristic to multi-class')\n",
    "plt.legend(loc=\"lower right\")\n",
    "plt.savefig(\"ROC.png\", dpi=1000)\n",
    "plt.show()"
   ]
  },
  {
   "cell_type": "code",
   "execution_count": null,
   "metadata": {},
   "outputs": [],
   "source": []
  }
 ],
 "metadata": {
  "kernelspec": {
   "display_name": "Python 3",
   "language": "python",
   "name": "python3"
  },
  "language_info": {
   "codemirror_mode": {
    "name": "ipython",
    "version": 3
   },
   "file_extension": ".py",
   "mimetype": "text/x-python",
   "name": "python",
   "nbconvert_exporter": "python",
   "pygments_lexer": "ipython3",
   "version": "3.6.7"
  }
 },
 "nbformat": 4,
 "nbformat_minor": 2
}
