{
 "cells": [
  {
   "cell_type": "code",
   "execution_count": 1,
   "metadata": {},
   "outputs": [
    {
     "name": "stderr",
     "output_type": "stream",
     "text": [
      "Using TensorFlow backend.\n"
     ]
    }
   ],
   "source": [
    "import tensorflow as tf\n",
    "import keras\n",
    "import numpy as np\n",
    "import pandas as pd\n",
    "from os import listdir\n",
    "from os.path import isfile, join\n",
    "import os\n",
    "from matplotlib.image import imread\n",
    "import matplotlib.pyplot as plt\n",
    "import scipy.io.wavfile as wav\n",
    "from sklearn.model_selection import train_test_split\n",
    "from sklearn.preprocessing import OneHotEncoder\n",
    "from keras.models import Sequential\n",
    "from keras.layers import Dense, Activation, Dropout, Conv1D"
   ]
  },
  {
   "cell_type": "code",
   "execution_count": 2,
   "metadata": {},
   "outputs": [],
   "source": [
    "dir_path = '/home/duh17/Desktop/free-spoken-digit-dataset/recordings/'\n",
    "file_names = [f for f in listdir(dir_path) if isfile(join(dir_path, f)) and '.wav' in f]"
   ]
  },
  {
   "cell_type": "code",
   "execution_count": 3,
   "metadata": {},
   "outputs": [],
   "source": [
    "lst = []\n",
    "for file_name in file_names :\n",
    "#     print(file_name)\n",
    "    sample_rate, sample = wav.read(dir_path+file_name)\n",
    "    lst.append([sample, file_name])"
   ]
  },
  {
   "cell_type": "code",
   "execution_count": 4,
   "metadata": {},
   "outputs": [],
   "source": [
    "def len_of_wav(e) :\n",
    "    \"\"\"\n",
    "    :e    : nparray, the array of that wav\n",
    "    :rtype: lenth of e\n",
    "    \"\"\"\n",
    "    return len(e[0])\n",
    "\n",
    "def purify(inwave, maxlength) :\n",
    "    \"\"\"\n",
    "    :inwave : nparray original wave and file name\n",
    "    :rtype: nparray purified wave, cut prefix 0 and suffix 0\n",
    "    \"\"\"\n",
    "    wave = inwave[0]\n",
    "#     print(wave)\n",
    "    tmp = np.zeros(maxlength)\n",
    "#     print(wave)\n",
    "    if wave[0] == 0 :\n",
    "        prefix_zero = True\n",
    "    else :\n",
    "        prefix_zero = False\n",
    "    cnt = 0\n",
    "    for i in range(len(wave)) :\n",
    "        if prefix_zero and wave[i] == 0 :\n",
    "            continue\n",
    "        else :\n",
    "            prefix_zero = False\n",
    "            tmp[cnt] = wave[i]\n",
    "            cnt += 1\n",
    "            if cnt==7999 :\n",
    "                break\n",
    "    return [tmp, inwave[1]]"
   ]
  },
  {
   "cell_type": "code",
   "execution_count": 5,
   "metadata": {},
   "outputs": [],
   "source": [
    "lst.sort(key=len_of_wav)"
   ]
  },
  {
   "cell_type": "code",
   "execution_count": 6,
   "metadata": {},
   "outputs": [],
   "source": [
    "res = []\n",
    "for i in lst :\n",
    "#     print(i)\n",
    "    res.append(purify(i, 8000))\n",
    "    "
   ]
  },
  {
   "cell_type": "code",
   "execution_count": 7,
   "metadata": {},
   "outputs": [],
   "source": [
    "X = []\n",
    "Y = []\n",
    "for i in res :\n",
    "    X.append(i[0])\n",
    "    Y.append(int(i[1][0]))\n",
    "X = np.asarray(X)\n",
    "\n",
    "tempY = np.asarray(Y)"
   ]
  },
  {
   "cell_type": "code",
   "execution_count": 8,
   "metadata": {},
   "outputs": [],
   "source": [
    "lsttmp = []\n",
    "for i in tempY :\n",
    "    tmp = []\n",
    "    for numbers in range(10) :\n",
    "        if numbers == i :\n",
    "            num = 1\n",
    "        else :\n",
    "            num = 0\n",
    "        tmp.append(num)\n",
    "    lsttmp.append(tmp)\n"
   ]
  },
  {
   "cell_type": "code",
   "execution_count": 9,
   "metadata": {},
   "outputs": [],
   "source": [
    "Y = np.asarray(lsttmp)"
   ]
  },
  {
   "cell_type": "code",
   "execution_count": 10,
   "metadata": {},
   "outputs": [],
   "source": [
    "X_train, X_test, y_train, y_test = train_test_split(X, Y, test_size=0.33, random_state=42)\n",
    "# X_train = X_train.reshape(1340, 8000, 1)"
   ]
  },
  {
   "cell_type": "code",
   "execution_count": 11,
   "metadata": {},
   "outputs": [],
   "source": [
    "model = Sequential()\n",
    "# model.add(Conv1D(filters=1, kernel_size=10, activation='relu', input_shape=(8000,)))\n",
    "# model.add(Conv1D(64, 3,     \n",
    "#                   input_shape=(8000,1),      \n",
    "#                   activation= 'relu',)) \n",
    "# model.add(Dense(8000, activation='relu'))\n",
    "# model.add(Conv1D(1, 10, padding='valid'))\n",
    "model.add(Dense(128, activation='relu'))\n",
    "# model.add(Dropout(0.5))\n",
    "model.add(Dense(128, activation='relu'))\n",
    "model.add(Dense(64, activation='relu'))\n",
    "model.add(Dense(32, activation='relu'))\n",
    "model.add(Dense(10, activation='softmax'))"
   ]
  },
  {
   "cell_type": "code",
   "execution_count": 12,
   "metadata": {},
   "outputs": [],
   "source": [
    "model.compile(loss=keras.losses.categorical_crossentropy,\n",
    "              optimizer=keras.optimizers.Adadelta(),\n",
    "              metrics=['accuracy'])"
   ]
  },
  {
   "cell_type": "code",
   "execution_count": 13,
   "metadata": {},
   "outputs": [
    {
     "name": "stdout",
     "output_type": "stream",
     "text": [
      "Epoch 1/1\n",
      "1340/1340 [==============================] - 1s 724us/step - loss: 14.3977 - acc: 0.1022\n"
     ]
    },
    {
     "data": {
      "text/plain": [
       "<keras.callbacks.History at 0x7f71301e7128>"
      ]
     },
     "execution_count": 13,
     "metadata": {},
     "output_type": "execute_result"
    }
   ],
   "source": [
    "model.fit(X_train, y_train, epochs=1)"
   ]
  },
  {
   "cell_type": "code",
   "execution_count": 27,
   "metadata": {},
   "outputs": [],
   "source": [
    "temp = X_train.reshape(1340, 8000, 1)"
   ]
  },
  {
   "cell_type": "code",
   "execution_count": 28,
   "metadata": {},
   "outputs": [
    {
     "data": {
      "text/plain": [
       "array([[ 256.,  256.,  256., ...,    0.,    0.,    0.],\n",
       "       [-301., -277., -381., ...,    0.,    0.,    0.],\n",
       "       [   8.,   20.,   74., ...,    0.,    0.,    0.],\n",
       "       ...,\n",
       "       [ 256.,  256.,  256., ...,    0.,    0.,    0.],\n",
       "       [ 256.,  512.,  256., ...,    0.,    0.,    0.],\n",
       "       [ 356.,  476.,  481., ...,    0.,    0.,    0.]])"
      ]
     },
     "execution_count": 28,
     "metadata": {},
     "output_type": "execute_result"
    }
   ],
   "source": [
    "X_train"
   ]
  },
  {
   "cell_type": "code",
   "execution_count": 29,
   "metadata": {},
   "outputs": [
    {
     "data": {
      "text/plain": [
       "array([[[ 256.],\n",
       "        [ 256.],\n",
       "        [ 256.],\n",
       "        ...,\n",
       "        [   0.],\n",
       "        [   0.],\n",
       "        [   0.]],\n",
       "\n",
       "       [[-301.],\n",
       "        [-277.],\n",
       "        [-381.],\n",
       "        ...,\n",
       "        [   0.],\n",
       "        [   0.],\n",
       "        [   0.]],\n",
       "\n",
       "       [[   8.],\n",
       "        [  20.],\n",
       "        [  74.],\n",
       "        ...,\n",
       "        [   0.],\n",
       "        [   0.],\n",
       "        [   0.]],\n",
       "\n",
       "       ...,\n",
       "\n",
       "       [[ 256.],\n",
       "        [ 256.],\n",
       "        [ 256.],\n",
       "        ...,\n",
       "        [   0.],\n",
       "        [   0.],\n",
       "        [   0.]],\n",
       "\n",
       "       [[ 256.],\n",
       "        [ 512.],\n",
       "        [ 256.],\n",
       "        ...,\n",
       "        [   0.],\n",
       "        [   0.],\n",
       "        [   0.]],\n",
       "\n",
       "       [[ 356.],\n",
       "        [ 476.],\n",
       "        [ 481.],\n",
       "        ...,\n",
       "        [   0.],\n",
       "        [   0.],\n",
       "        [   0.]]])"
      ]
     },
     "execution_count": 29,
     "metadata": {},
     "output_type": "execute_result"
    }
   ],
   "source": [
    "temp"
   ]
  },
  {
   "cell_type": "code",
   "execution_count": null,
   "metadata": {},
   "outputs": [],
   "source": []
  }
 ],
 "metadata": {
  "kernelspec": {
   "display_name": "Python 3",
   "language": "python",
   "name": "python3"
  },
  "language_info": {
   "codemirror_mode": {
    "name": "ipython",
    "version": 3
   },
   "file_extension": ".py",
   "mimetype": "text/x-python",
   "name": "python",
   "nbconvert_exporter": "python",
   "pygments_lexer": "ipython3",
   "version": "3.7.1"
  }
 },
 "nbformat": 4,
 "nbformat_minor": 2
}
