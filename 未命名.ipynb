{
 "cells": [
  {
   "cell_type": "code",
   "execution_count": 21,
   "metadata": {},
   "outputs": [],
   "source": [
    "import keras\n",
    "from keras.models import Sequential\n",
    "from keras.layers import Dense, Activation"
   ]
  },
  {
   "cell_type": "code",
   "execution_count": 22,
   "metadata": {},
   "outputs": [
    {
     "name": "stdout",
     "output_type": "stream",
     "text": [
      "Epoch 1/10\n",
      "1000/1000 [==============================] - 1s 1ms/step - loss: 2.3802 - acc: 0.1050\n",
      "Epoch 2/10\n",
      "1000/1000 [==============================] - 0s 58us/step - loss: 2.3331 - acc: 0.0980\n",
      "Epoch 3/10\n",
      "1000/1000 [==============================] - 0s 49us/step - loss: 2.3196 - acc: 0.1220\n",
      "Epoch 4/10\n",
      "1000/1000 [==============================] - 0s 49us/step - loss: 2.3110 - acc: 0.1230\n",
      "Epoch 5/10\n",
      "1000/1000 [==============================] - 0s 51us/step - loss: 2.2975 - acc: 0.1200\n",
      "Epoch 6/10\n",
      "1000/1000 [==============================] - 0s 54us/step - loss: 2.2909 - acc: 0.1330\n",
      "Epoch 7/10\n",
      "1000/1000 [==============================] - 0s 49us/step - loss: 2.2786 - acc: 0.1480\n",
      "Epoch 8/10\n",
      "1000/1000 [==============================] - 0s 47us/step - loss: 2.2739 - acc: 0.1450\n",
      "Epoch 9/10\n",
      "1000/1000 [==============================] - 0s 48us/step - loss: 2.2605 - acc: 0.1590\n",
      "Epoch 10/10\n",
      "1000/1000 [==============================] - 0s 49us/step - loss: 2.2498 - acc: 0.1630\n"
     ]
    },
    {
     "data": {
      "text/plain": [
       "<keras.callbacks.History at 0x7fb6f4cf4e10>"
      ]
     },
     "execution_count": 22,
     "metadata": {},
     "output_type": "execute_result"
    }
   ],
   "source": [
    "# For a single-input model with 10 classes (categorical classification):\n",
    "\n",
    "model = Sequential()\n",
    "model.add(Dense(32, activation='relu', input_dim=100))\n",
    "model.add(Dense(10, activation='softmax'))\n",
    "model.compile(optimizer='rmsprop',\n",
    "              loss='categorical_crossentropy',\n",
    "              metrics=['accuracy'])\n",
    "\n",
    "# Generate dummy data\n",
    "import numpy as np\n",
    "data = np.random.random((1000, 100))\n",
    "labels = np.random.randint(10, size=(1000, 1))\n",
    "\n",
    "# Convert labels to categorical one-hot encoding\n",
    "one_hot_labels = keras.utils.to_categorical(labels, num_classes=10)\n",
    "\n",
    "# Train the model, iterating on the data in batches of 32 samples\n",
    "model.fit(data, one_hot_labels, epochs=10, batch_size=32)\n"
   ]
  },
  {
   "cell_type": "code",
   "execution_count": 23,
   "metadata": {},
   "outputs": [
    {
     "data": {
      "text/plain": [
       "(1000, 100)"
      ]
     },
     "execution_count": 23,
     "metadata": {},
     "output_type": "execute_result"
    }
   ],
   "source": [
    "data.shape"
   ]
  },
  {
   "cell_type": "code",
   "execution_count": null,
   "metadata": {},
   "outputs": [],
   "source": [
    "print(data)"
   ]
  },
  {
   "cell_type": "code",
   "execution_count": 25,
   "metadata": {},
   "outputs": [
    {
     "data": {
      "text/plain": [
       "1000"
      ]
     },
     "execution_count": 25,
     "metadata": {},
     "output_type": "execute_result"
    }
   ],
   "source": [
    "len(labels)"
   ]
  },
  {
   "cell_type": "code",
   "execution_count": 29,
   "metadata": {},
   "outputs": [],
   "source": [
    "def work(st) :\n",
    "    if (len(st) == 5) :\n",
    "        print(st)\n",
    "#         sum += st.freq * st\n",
    "#         if min>sum :\n",
    "#             min = sum\n",
    "#             minst = st\n",
    "        return\n",
    "    st = st + '1'\n",
    "    work(st)\n",
    "    st = st[:-1]\n",
    "    st = st + '0'\n",
    "    work(st)\n",
    "    st = st[:-1]"
   ]
  },
  {
   "cell_type": "code",
   "execution_count": 30,
   "metadata": {},
   "outputs": [
    {
     "name": "stdout",
     "output_type": "stream",
     "text": [
      "11111\n",
      "11110\n",
      "11101\n",
      "11100\n",
      "11011\n",
      "11010\n",
      "11001\n",
      "11000\n",
      "10111\n",
      "10110\n",
      "10101\n",
      "10100\n",
      "10011\n",
      "10010\n",
      "10001\n",
      "10000\n",
      "01111\n",
      "01110\n",
      "01101\n",
      "01100\n",
      "01011\n",
      "01010\n",
      "01001\n",
      "01000\n",
      "00111\n",
      "00110\n",
      "00101\n",
      "00100\n",
      "00011\n",
      "00010\n",
      "00001\n",
      "00000\n"
     ]
    }
   ],
   "source": [
    "work('')"
   ]
  },
  {
   "cell_type": "code",
   "execution_count": null,
   "metadata": {},
   "outputs": [],
   "source": []
  }
 ],
 "metadata": {
  "kernelspec": {
   "display_name": "Python 3",
   "language": "python",
   "name": "python3"
  },
  "language_info": {
   "codemirror_mode": {
    "name": "ipython",
    "version": 3
   },
   "file_extension": ".py",
   "mimetype": "text/x-python",
   "name": "python",
   "nbconvert_exporter": "python",
   "pygments_lexer": "ipython3",
   "version": "3.7.1"
  }
 },
 "nbformat": 4,
 "nbformat_minor": 2
}
